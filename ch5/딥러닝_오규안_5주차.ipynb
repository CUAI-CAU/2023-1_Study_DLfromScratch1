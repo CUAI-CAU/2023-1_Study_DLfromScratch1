{
 "cells": [
  {
   "cell_type": "markdown",
   "id": "3cc03a83",
   "metadata": {},
   "source": [
    "# 05 오차역전파법"
   ]
  },
  {
   "cell_type": "markdown",
   "id": "409cb85d",
   "metadata": {},
   "source": [
    "# 5.1 계산 그래프"
   ]
  },
  {
   "cell_type": "markdown",
   "id": "bb948e42",
   "metadata": {},
   "source": [
    "### 5.1.1 계산 그래프로 풀다"
   ]
  },
  {
   "cell_type": "markdown",
   "id": "4981e199",
   "metadata": {},
   "source": [
    "* 계산 그래프를 이용한 문제풀이의 흐름\n",
    "* 1. 계산 그래프를 구성한다. \n",
    "* 2. 그래프에서 계산을 왼쪽에서 오른쪽으로 진행한다. \n",
    "\n",
    "* 순전파: 계산을 왼쪽에서 오른쪽으로 진행\n",
    "* 역전파: 게산을 오른쪽에서 왼쪽으로 진행"
   ]
  },
  {
   "cell_type": "markdown",
   "id": "6a1a6ad0",
   "metadata": {},
   "source": [
    "### 5.1.2 국소적 계산\n",
    "* 국소적 계산: 전체에서 어떤 일이 벌어지든 상관없이 자신과 관계된 정보만으로 결과를 출력할 수 있다. \n",
    "* 국소적인 계산은 단순하지만, 그 결과를 전달함으로써 전체를 구성하는 복잡한 계산을 해낼 수 있습니다. "
   ]
  },
  {
   "cell_type": "markdown",
   "id": "54a30a76",
   "metadata": {},
   "source": [
    "### 5.1.3 왜 계산 그래프로 푸는가\n",
    "* 계산 그래프의 이점:\n",
    "* 1. 국소적 계산 - 아무리 복잡해도 각 노드에서는 단순한 계산에 집중하여 문제를 단순화할 수 있다. \n",
    "* 2. 계산 그래프는 중간 계산 결과를 모두 보관할 수 있다. \n",
    "* 3. 역전파를 통해 미분을 효율적으로 계산할 수 있다. "
   ]
  },
  {
   "cell_type": "markdown",
   "id": "202f4b31",
   "metadata": {},
   "source": [
    "# 5.2 연쇄법칙\n",
    "* 연쇄법칙: 국소적 미분을 전달하는 원리는 연쇄법칙에 따른 것이다. "
   ]
  },
  {
   "cell_type": "markdown",
   "id": "8e62aadd",
   "metadata": {},
   "source": [
    "### 5.2.1 계산 그래프의 역전파\n",
    "* 순방향과는 반대 방향으로 국소적 미분을 곱한다. \n",
    "* 역전파의 계산 순서로 목표로 하는 미분 값을 효율적으로 구할 수 있다. "
   ]
  },
  {
   "cell_type": "markdown",
   "id": "59a6c6c8",
   "metadata": {},
   "source": [
    "### 5.2.2 연쇄법칙이란?\n",
    "* 합성 함수: 여러 함수로 구성된 함수\n",
    "* 연쇄법칙의 원리: \"합성 함수의 미분은 합성 함수를 구성하는 각 함수의 미분의 곱으로 나타낼 수 있다.\""
   ]
  },
  {
   "cell_type": "markdown",
   "id": "c9f40156",
   "metadata": {},
   "source": [
    "### 5.2.3 연쇄법칙과 계산 그래프"
   ]
  },
  {
   "cell_type": "markdown",
   "id": "9ddd26f1",
   "metadata": {},
   "source": [
    "# 5.3 역전파\n",
    "### 5.3.1 덧셈 노드의 역전파\n",
    "* 덧셈 노드의 역전파는 입력 값을 그대로 흘러보낸다. \n",
    "* 덧셈 노드의 역전파는 1을 곱하기만 할 뿐, 입력된 값을 그대로 다음 노드로 보내게 된다. \n",
    "\n",
    "### 5.3.2 곱셉 노드의 역전파\n",
    "* 곱셉 노드 역전파는 상류의 값에 순전파 때의 입력 신호들을 서로 바꾼 값을 곱해서 하류로 보낸다. "
   ]
  },
  {
   "cell_type": "markdown",
   "id": "08d5a1e3",
   "metadata": {},
   "source": [
    "# 5.4 단순한 계층 구현하기\n",
    "### 5.4.1 곱셉 계층\n",
    "* forward()는 순전파\n",
    "* backward()는 역전파"
   ]
  },
  {
   "cell_type": "code",
   "execution_count": 1,
   "id": "986cacdf",
   "metadata": {},
   "outputs": [],
   "source": [
    "class MulLayer:\n",
    "    def __init__(self):\n",
    "        self.x = None\n",
    "        self.y = None\n",
    "    \n",
    "    def forward(self, x, y):\n",
    "        self.x = x\n",
    "        self.y = y\n",
    "        out = x * y\n",
    "        \n",
    "        return out\n",
    "    \n",
    "    def backward(self, dout):\n",
    "        dx = dout * self.y # x와 y를 바꾼다. \n",
    "        dy = dout * self.x\n",
    "        \n",
    "        return dx, dy"
   ]
  },
  {
   "cell_type": "markdown",
   "id": "cd730bb7",
   "metadata": {},
   "source": [
    "* __init__() -> 인스턴스 변수인 x와 y를 초기화한다. \n",
    "* forward()에서 x와 y를 인수로 받고 두 값을 곱해서 반환한다. \n",
    "* backward()에서 상류에서 넘어온 미분을 순전파 때의 값을 서로 바꿔 곱한 후 하류로 흘린다. "
   ]
  },
  {
   "cell_type": "code",
   "execution_count": 2,
   "id": "701e5280",
   "metadata": {},
   "outputs": [
    {
     "name": "stdout",
     "output_type": "stream",
     "text": [
      "220.00000000000003\n"
     ]
    }
   ],
   "source": [
    "    apple = 100\n",
    "    apple_num = 2\n",
    "    tax = 1.1\n",
    "\n",
    "    # 계층들\n",
    "    mul_apple_layer = MulLayer()\n",
    "    mul_tax_layer = MulLayer()\n",
    "\n",
    "    # 순전파\n",
    "    apple_price = mul_apple_layer.forward(apple, apple_num)\n",
    "    price = mul_tax_layer.forward(apple_price, tax)\n",
    "\n",
    "    print(price)  # 220.0"
   ]
  },
  {
   "cell_type": "code",
   "execution_count": 3,
   "id": "927f93eb",
   "metadata": {},
   "outputs": [
    {
     "name": "stdout",
     "output_type": "stream",
     "text": [
      "2.2 110.00000000000001 200\n"
     ]
    }
   ],
   "source": [
    "    # 역전파\n",
    "    dprice = 1\n",
    "    dapple_price, dtax = mul_tax_layer.backward(dprice)\n",
    "    dapple, dapple_num = mul_apple_layer.backward(dapple_price)\n",
    "\n",
    "    print(dapple, dapple_num, dtax)  # 2.2 110.0 200"
   ]
  },
  {
   "cell_type": "markdown",
   "id": "fe53ca88",
   "metadata": {},
   "source": [
    "### 5.4.2 덧셈 계층"
   ]
  },
  {
   "cell_type": "code",
   "execution_count": 4,
   "id": "6cac04b8",
   "metadata": {},
   "outputs": [],
   "source": [
    "class AddLayer:\n",
    "    def __init__(self):\n",
    "        pass\n",
    "\n",
    "    def forward(self, x, y):\n",
    "        out = x + y\n",
    "        return out\n",
    "\n",
    "    def backward(self, dout):\n",
    "        dx = dout * 1\n",
    "        dy = dout * 1\n",
    "        return dx, dy"
   ]
  },
  {
   "cell_type": "markdown",
   "id": "46cc0764",
   "metadata": {},
   "source": [
    "* __init__() -> 인스턴스 변수인 x와 y를 초기화할 필요가 없으니 아무 일도 핮 않는다. \n",
    "* forward()에서 x와 y를 인수로 받고 두 값을 더해서 반환한다. \n",
    "* backward()에서 상류에서 넘어온 미분을 그대로 하류로 흘린다. "
   ]
  },
  {
   "cell_type": "code",
   "execution_count": 5,
   "id": "5bddb29d",
   "metadata": {},
   "outputs": [
    {
     "name": "stdout",
     "output_type": "stream",
     "text": [
      "715.0000000000001\n",
      "110.00000000000001 2.2 3.3000000000000003 165.0 650\n"
     ]
    }
   ],
   "source": [
    "    orange = 150\n",
    "    orange_num = 3\n",
    "\n",
    "    # 계층들\n",
    "    mul_apple_layer = MulLayer()\n",
    "    mul_orange_layer = MulLayer()\n",
    "    add_apple_orange_layer = AddLayer()\n",
    "    mul_tax_layer = MulLayer()\n",
    "\n",
    "    # 순전파\n",
    "    apple_price = mul_apple_layer.forward(apple, apple_num)\n",
    "    orange_price = mul_orange_layer.forward(orange, orange_num)\n",
    "    all_price = add_apple_orange_layer.forward(apple_price, orange_price)\n",
    "    price = mul_tax_layer.forward(all_price, tax)\n",
    "\n",
    "    print(price)  # 715.0\n",
    "\n",
    "    # 역전파\n",
    "    dprice = 1\n",
    "    dall_price, dtax = mul_tax_layer.backward(dprice)\n",
    "    dapple_price, dorange_price = add_apple_orange_layer.backward(dall_price)\n",
    "    dornage, dorange_num = mul_orange_layer.backward(dorange_price)\n",
    "    dapple, dapple_num = mul_apple_layer.backward(dapple_price)\n",
    "\n",
    "    print(dapple_num, dapple, dornage, dorange_num, dtax)\n",
    "    # 110.0 2.2 3.3 165.0 650"
   ]
  },
  {
   "cell_type": "markdown",
   "id": "435ec560",
   "metadata": {},
   "source": [
    "# 5.5 활성화 함수 계층 구현하기"
   ]
  },
  {
   "cell_type": "markdown",
   "id": "48f1ff55",
   "metadata": {},
   "source": [
    "### 5.5.1 ReLU 계층"
   ]
  },
  {
   "cell_type": "code",
   "execution_count": 6,
   "id": "6ba139ae",
   "metadata": {},
   "outputs": [],
   "source": [
    "class Relu:\n",
    "    def __init__(self):\n",
    "        self.mask = None\n",
    "\n",
    "    def forward(self, x):\n",
    "        self.mask = (x <= 0)\n",
    "        out = x.copy()\n",
    "        out[self.mask] = 0\n",
    "\n",
    "        return out\n",
    "\n",
    "    def backward(self, dout):\n",
    "        dout[self.mask] = 0\n",
    "        dx = dout\n",
    "\n",
    "        return dx"
   ]
  },
  {
   "cell_type": "markdown",
   "id": "9f9fc659",
   "metadata": {},
   "source": [
    "* Relu 클래스는 mask라는 인스턴스 변수를 가진다.\n",
    "* mask는 True/False로 구성된 넘파이 배열이다. \n",
    "* 원소 값이 0 이하인 인덱스는 True, 그 외는 False로 유지한다. "
   ]
  },
  {
   "cell_type": "code",
   "execution_count": 7,
   "id": "39aaed6d",
   "metadata": {},
   "outputs": [
    {
     "name": "stdout",
     "output_type": "stream",
     "text": [
      "[[ 1.  -0.5]\n",
      " [-2.   3. ]]\n",
      "[[False  True]\n",
      " [ True False]]\n"
     ]
    },
    {
     "data": {
      "text/plain": [
       "'\\n[[False  True]\\n [ True False]]\\n'"
      ]
     },
     "execution_count": 7,
     "metadata": {},
     "output_type": "execute_result"
    }
   ],
   "source": [
    "    import numpy as np\n",
    "    x = np.array([[1.0, -0.5], [-2.0, 3.0]])\n",
    "    print(x)\n",
    "    \"\"\"\n",
    "    [[ 1.  -0.5]\n",
    "     [-2.   3. ]]\n",
    "    \"\"\"\n",
    "\n",
    "    mask = (x <= 0)\n",
    "    print(mask)\n",
    "    \"\"\"\n",
    "    [[False  True]\n",
    "     [ True False]]\n",
    "    \"\"\""
   ]
  },
  {
   "cell_type": "markdown",
   "id": "07edb8ef",
   "metadata": {},
   "source": [
    "### 5.5.2 Sigmoid 계층"
   ]
  },
  {
   "cell_type": "markdown",
   "id": "53187a57",
   "metadata": {},
   "source": [
    "* 1단계; 역전파 때는 상류에서 흘러온 값에 순전파의 출력을 제곱한 후 마이너스를 붙이고 곱해서 하류로 전달한다. \n",
    "* 2단계: + 노드는 상류의 값을 여과 없이 하류로 내보낸다. \n",
    "* 3단계; exp 노드는 y = exp(x) 연산을 수행한다. \n",
    "* 4단계: 'x'노드는 순전파 때의 값을 서로 바꿔 곱한다. "
   ]
  },
  {
   "cell_type": "code",
   "execution_count": 8,
   "id": "3ae44eec",
   "metadata": {},
   "outputs": [],
   "source": [
    "class Sigmoid:\n",
    "    def __init__(self):\n",
    "        self.out = None\n",
    "\n",
    "    def forward(self, x):\n",
    "        out = 1 / (1 + np.exp(-x))\n",
    "        self.out = out\n",
    "\n",
    "        return out\n",
    "\n",
    "    def backward(self, dout):\n",
    "        dx = dout * (1.0 - self.out) * self.out\n",
    "\n",
    "        return dx"
   ]
  },
  {
   "cell_type": "markdown",
   "id": "19b5567b",
   "metadata": {},
   "source": [
    "* 순전파의 출력을 인스턴스 변수 out에 보관했다가, 역전파 계산 떄 사용한다. "
   ]
  },
  {
   "cell_type": "markdown",
   "id": "9af8d6b7",
   "metadata": {},
   "source": [
    "# 5.6 Affine/Softmax 계층 구현하기\n",
    "### 5.6.1 Affine 계층"
   ]
  },
  {
   "cell_type": "code",
   "execution_count": 9,
   "id": "0d95a272",
   "metadata": {},
   "outputs": [
    {
     "name": "stdout",
     "output_type": "stream",
     "text": [
      "(2,)\n",
      "(2, 3)\n",
      "(3,)\n"
     ]
    }
   ],
   "source": [
    "    X = np.random.rand(2)     # 입력\n",
    "    W = np.random.rand(2, 3)  # 가중치\n",
    "    B = np.random.rand(3)     # 편향\n",
    "\n",
    "    print(X.shape)  # (2,)\n",
    "    print(W.shape)  # (2, 3)\n",
    "    print(B.shape)  # (3,)\n",
    "\n",
    "    Y = np.dot(X, W) + B"
   ]
  },
  {
   "cell_type": "markdown",
   "id": "9c0d7c4c",
   "metadata": {},
   "source": [
    "* 어파인 변환: 신경망의 순전파 때 수행하는 행렬의 곱"
   ]
  },
  {
   "cell_type": "markdown",
   "id": "8a671b13",
   "metadata": {},
   "source": [
    "### 5.6.2 배치용 Affine 계층"
   ]
  },
  {
   "cell_type": "code",
   "execution_count": 10,
   "id": "7796b78d",
   "metadata": {},
   "outputs": [
    {
     "name": "stdout",
     "output_type": "stream",
     "text": [
      "[[ 0  0  0]\n",
      " [10 10 10]]\n",
      "[[ 1  2  3]\n",
      " [11 12 13]]\n"
     ]
    },
    {
     "data": {
      "text/plain": [
       "'\\n[[ 1  2  3]\\n [11 12 13]]\\n'"
      ]
     },
     "execution_count": 10,
     "metadata": {},
     "output_type": "execute_result"
    }
   ],
   "source": [
    "    X_dot_W = np.array([[0, 0, 0], [10, 10, 10]])\n",
    "    B = np.array([1, 2, 3])\n",
    "    print(X_dot_W)\n",
    "    \"\"\"\n",
    "    [[ 0  0  0]\n",
    "     [10 10 10]]\n",
    "    \"\"\"\n",
    "    print(X_dot_W + B)\n",
    "    \"\"\"\n",
    "    [[ 1  2  3]\n",
    "     [11 12 13]]\n",
    "    \"\"\""
   ]
  },
  {
   "cell_type": "code",
   "execution_count": 11,
   "id": "466f0cda",
   "metadata": {},
   "outputs": [
    {
     "name": "stdout",
     "output_type": "stream",
     "text": [
      "[[1 2 3]\n",
      " [4 5 6]]\n",
      "[5 7 9]\n"
     ]
    }
   ],
   "source": [
    "    dY = np.array([[1, 2, 3], [4, 5, 6]])\n",
    "    print(dY)\n",
    "    \"\"\"\n",
    "    [[1 2 3]\n",
    "     [4 5 6]]\n",
    "    \"\"\"\n",
    "    dB = np.sum(dY, axis=0)\n",
    "    print(dB)  # [5 7 9]"
   ]
  },
  {
   "cell_type": "code",
   "execution_count": 12,
   "id": "20cd44c2",
   "metadata": {},
   "outputs": [],
   "source": [
    "class Affine:\n",
    "    def __init__(self, W, b):\n",
    "        self.W = W\n",
    "        self.b = b\n",
    "        self.x = None\n",
    "        self.dW = None\n",
    "        self.db = None\n",
    "\n",
    "    def forward(self, x):\n",
    "        self.x = x\n",
    "        out = np.dot(x, self.W) + self.b\n",
    "\n",
    "        return out\n",
    "\n",
    "    def backward(self, dout):\n",
    "        dx = np.dot(dout, self.W.T)\n",
    "        self.dW = np.dot(self.x.T, dout)\n",
    "        self.db = np.sum(dout, axis=0)\n",
    "\n",
    "        return dx"
   ]
  },
  {
   "cell_type": "markdown",
   "id": "afce78b5",
   "metadata": {},
   "source": [
    "### 5.6.3 Softmax-with-Loss 계층\n",
    "* 소프트맥스 함수는 입력 값을 정규화하여 출력한다.\n",
    "* 신경망에서 수행하는 작업은 학습과 추론 2 가지입니다. \n",
    "* 추론: 일반적으로 Softmax 계층을 사용하지 않는다. "
   ]
  },
  {
   "cell_type": "code",
   "execution_count": 13,
   "id": "94fc7aac",
   "metadata": {},
   "outputs": [],
   "source": [
    "def softmax(a):\n",
    "    c = np.max(a)\n",
    "    exp_a = np.exp(a - c)  # 오버플로 대책\n",
    "    sum_exp_a = np.sum(exp_a)\n",
    "    y = exp_a / sum_exp_a\n",
    "\n",
    "    return y\n",
    "\n",
    "\n",
    "def cross_entropy_error(y, t):\n",
    "    delta = 1e-7  # 0일때 -무한대가 되지 않기 위해 작은 값을 더함\n",
    "    return -np.sum(t * np.log(y + delta))\n",
    "\n",
    "\n",
    "class SoftmaxWithLoss:\n",
    "    def __init__(self):\n",
    "        self.loss = None  # 손실\n",
    "        self.y = None     # softmax의 출력\n",
    "        self.t = None     # 정답 레이블(원-핫 벡터)\n",
    "\n",
    "    def forward(self, x, t):\n",
    "        self.t = t\n",
    "        self.y = softmax(x)  # 3.5.2, 4.2.2에서 구현\n",
    "        self.loss = cross_entropy_error(self.y, self.t)\n",
    "\n",
    "        return self.loss\n",
    "\n",
    "    def backward(self, dout=1):\n",
    "        batch_size = self.t.shape[0]\n",
    "        dx = self.y - self.t / batch_size\n",
    "\n",
    "        return dx\n"
   ]
  },
  {
   "cell_type": "markdown",
   "id": "8eec3db4",
   "metadata": {},
   "source": [
    "# 5.7 오차역전파법 구현하기"
   ]
  },
  {
   "cell_type": "markdown",
   "id": "4d3e354f",
   "metadata": {},
   "source": [
    "### 5.7.1 신경망 학습의 전체 그림\n",
    "* 전제: 신경망에는 적응 가능한 가중치와 편향이 있고, 이 가중치와 편향을 훈련 데이터에 적응하도록 저정하는 과정을 '학습'이라 합니다. 신경망 학습은 다음과 같이 4단계로 수행합니다. \n",
    "* 1단계 - 미니배치: 훈련 데이터 중 일부를 무작위로 가져옵니다. 이렇게 선별한 데이터를 미니배치라 하며, 그 미니배치의 손실 함수 값을 줄이는 것이 목표입니다. \n",
    "* 2단계 - 기울기 산출: 미니배치의 손실 함수 값을 줄이기 위해 각 가중치 매개변수의 기울기를 구합니다. 기울기는 손실 함수이ㅡ 값을 가장 작게 하는 방향을 제시합니다. \n",
    "* 3단계- 매개변수 갱신: 가중치 매개변수를 기울기 방향으로 아주 조금 갱신합니다. \n",
    "* 4단계 - 반복: 1~3단계를 반복합니다. "
   ]
  },
  {
   "cell_type": "markdown",
   "id": "7b73c74d",
   "metadata": {},
   "source": [
    "### 5.7.2 오차역전파법을 적용한 신경망 구현하기\n",
    "* TwoLayerNet 클래스의 인스턴스 변수\n",
    "* params: 딕셔너리 변수로, 신경망의 매겨변수를 보관\n",
    "* layers: 순서가 있는 딕셔너리 변수로, 신경망의 계층을 보관\n",
    "* lastLayer: 신경망의 마지막 계층\n",
    "\n",
    "* TwoLayerNet 클래스의 메서드\n",
    "* __init__(self, input_size, hidden_size, output_size, weight_init_std): 초기화를 수행한다. \n",
    "* predict(self,x): 예측(추론)을 수행한다. \n",
    "* loss(self,x,t): 손실 함수의 값을 구한다. \n",
    "* accuracy(self,x,t): 정확도를 구한다. \n",
    "* numerical_gradient(self,x,t): 가중치 매개변수의 기울기를 수치 미분 방식으로 구한다. \n",
    "* gradient(self,x,t): 가중치 매개변수의 기울기를 오차역전파법으로 구한다. "
   ]
  },
  {
   "cell_type": "code",
   "execution_count": 14,
   "id": "748780fd",
   "metadata": {},
   "outputs": [],
   "source": [
    "class TwoLayerNet:\n",
    "    def __init__(self, input_size, hidden_size, output_size,\n",
    "        weight_init_std=0.01):\n",
    "        # 가중치 초기화\n",
    "        self.params = {}\n",
    "        self.params['W1'] = weight_init_std * \\\n",
    "            np.random.randn(input_size, hidden_size)\n",
    "        self.params['b1'] = np.zeros(hidden_size)\n",
    "        self.params['W2'] = weight_init_std * \\\n",
    "            np.random.randn(hidden_size, output_size)\n",
    "        self.params['b2'] = np.zeros(output_size)\n",
    "\n",
    "        # 계층 생성\n",
    "        self.layers = OrderedDict()\n",
    "        self.layers['Affine1'] = \\\n",
    "            Affine(self.params['W1'], self.params['b1'])\n",
    "        self.layers['Relu1'] = Relu()\n",
    "        self.layers['Affine2'] = \\\n",
    "            Affine(self.params['W2'], self.params['b2'])\n",
    "        self.lastLayer = SoftmaxWithLoss()\n",
    "\n",
    "    def predict(self, x):\n",
    "        for layer in self.layers.values():\n",
    "            x = layer.forward(x)\n",
    "\n",
    "        return x\n",
    "\n",
    "    # x : 입력 데이터, t : 정답 레이블\n",
    "    def loss(self, x, t):\n",
    "        y = self.predict(x)\n",
    "        return self.lastLayer.forward(y, t)\n",
    "\n",
    "    def accuracy(self, x, t):\n",
    "        y = self.predict(x)\n",
    "        y = np.argmax(y, axis=1)\n",
    "        if t.ndim != 1:\n",
    "            t = np.argmax(t, axis=1)\n",
    "\n",
    "        accuracy = np.sum(y == t) / float(x.shape[0])\n",
    "        return accuracy\n",
    "\n",
    "    def numerical_gradient(self, x, t):\n",
    "        loss_W = lambda W: self.loss(x, t)\n",
    "\n",
    "        grads = {}\n",
    "        grads['W1'] = numerical_gradient(loss_W, self.params['W1'])\n",
    "        grads['b1'] = numerical_gradient(loss_W, self.params['b1'])\n",
    "        grads['W2'] = numerical_gradient(loss_W, self.params['W2'])\n",
    "        grads['b2'] = numerical_gradient(loss_W, self.params['b2'])\n",
    "\n",
    "        return grads\n",
    "\n",
    "    def gradient(self, x, t):\n",
    "        # 순전파\n",
    "        self.loss(x, t)\n",
    "\n",
    "        # 역전파\n",
    "        dout = 1\n",
    "        dout = self.lastLayer.backward(dout)\n",
    "\n",
    "        layers = list(self.layers.values())\n",
    "        layers.reverse()\n",
    "        for layer in layers:\n",
    "            dout = layer.backward(dout)\n",
    "\n",
    "        # 결과 저장\n",
    "        grads = {}\n",
    "        grads['W1'] = self.layers['Affine1'].dW\n",
    "        grads['b1'] = self.layers['Affine1'].db\n",
    "        grads['W2'] = self.layers['Affine2'].dW\n",
    "        grads['b2'] = self.layers['Affine2'].db\n",
    "\n",
    "        return grads"
   ]
  },
  {
   "cell_type": "markdown",
   "id": "ed66018c",
   "metadata": {},
   "source": [
    "### 5.7.3 오차역전파법으로 구한 기울기 검증하기\n",
    "* 수치 미분의 이점은 구현하기 쉽다. \n",
    "* 수치 미분의 구현에는 버그가 숨어 있기 어려운 반면, 오차 역전 파법은 구현하기 복잡해서 종종 실수를 하곤 합니다. \n",
    "* 수치 미분의 결과와 오차역전파법의 결과를 비교하여 오차역전파법을 제대로 구현했는지 검증하고 한다. \n",
    "* 기울기 확인: 두 방식으로 구한 기울기가 일치함을 확인하는 작업"
   ]
  },
  {
   "cell_type": "code",
   "execution_count": null,
   "id": "5694242b",
   "metadata": {
    "scrolled": true
   },
   "outputs": [],
   "source": [
    "(x_train, t_train), (x_test, t_test) = \\\n",
    "        load_mnist(normalize=True, one_hot_label=True)\n",
    "\n",
    "    network = TwoLayerNet(input_size=784, hidden_size=50, output_size=10)\n",
    "\n",
    "    x_batch = x_train[:3]\n",
    "    t_batch = t_train[:3]\n",
    "\n",
    "    grad_numerical = network.numerical_gradient(x_batch, t_batch)\n",
    "    grad_backprop = network.gradient(x_batch, t_batch)\n",
    "    \n",
    "    # 각 가중치의 차이의 절댓값을 구한 후, 그 절댓값들의 평균을 낸다.\n",
    "    for key in grad_numerical.keys():\n",
    "        diff = np.average(np.abs(grad_backprop[key] - grad_numerical[key]))\n",
    "        print(key + \":\" + str(diff))"
   ]
  },
  {
   "cell_type": "markdown",
   "id": "75b08be8",
   "metadata": {},
   "source": [
    "### 5.7.4 오차역전파법을 사용한 학습 구현하기"
   ]
  },
  {
   "cell_type": "code",
   "execution_count": null,
   "id": "101205f0",
   "metadata": {},
   "outputs": [],
   "source": [
    "import sys\n",
    "import os\n",
    "import numpy as np\n",
    "sys.path.append(os.pardir)\n",
    "from dataset.mnist import load_mnist\n",
    "from two_layer_net import TwoLayerNet\n",
    "\n",
    "# 데이터 읽기\n",
    "(x_train, t_train), (x_test, t_test) = \\\n",
    "    load_mnist(normalize=True, one_hot_label=True)\n",
    "network = TwoLayerNet(input_size=784, hidden_size=50, output_size=10)\n",
    "\n",
    "# 하이퍼 파라메터\n",
    "iters_num = 10000  # 반복횟수\n",
    "train_size = x_train.shape[0]\n",
    "batch_size = 100  # 미니배치 크기\n",
    "learning_rate = 0.1\n",
    "\n",
    "train_loss_list = []\n",
    "train_acc_list = []\n",
    "test_acc_list = []\n",
    "\n",
    "# 1에폭당 반복 수\n",
    "iter_per_epoch = max(train_size / batch_size, 1)\n",
    "\n",
    "for i in range(iters_num):\n",
    "    # print(i)\n",
    "    # 미니배치 획득\n",
    "    batch_mask = np.random.choice(train_size, batch_size)\n",
    "    x_batch = x_train[batch_mask]\n",
    "    t_batch = t_train[batch_mask]\n",
    "\n",
    "    # 오차역전파법으로 기울기 계산\n",
    "    grad = network.gradient(x_batch, t_batch)\n",
    "\n",
    "    # 매개변수 갱신\n",
    "    for key in ('W1', 'b1', 'W2', 'b2'):\n",
    "        network.params[key] -= learning_rate * grad[key]\n",
    "\n",
    "    # 학습 경과 기록\n",
    "    loss = network.loss(x_batch, t_batch)\n",
    "    train_loss_list.append(loss)\n",
    "\n",
    "    # 1에폭 당 정확도 계산\n",
    "    if i % iter_per_epoch == 0:\n",
    "        train_acc = network.accuracy(x_train, t_train)\n",
    "        test_acc = network.accuracy(x_test, t_test)\n",
    "        train_acc_list.append(train_acc)\n",
    "        test_acc_list.append(test_acc)\n",
    "        print(\"train acc, test acc | \" + str(train_acc) + \", \" + str(test_acc))"
   ]
  },
  {
   "cell_type": "markdown",
   "id": "1e4f1d16",
   "metadata": {},
   "source": [
    "# 5.8 정리\n",
    "* 계산 그래프를 이용하면 계산 과정을 시각적으로 파악할 수 있다. \n",
    "* 계산 그래프의 노드는 국소적 계산으로 구성된다. 국소적 계산을 조합해 전체 계산을 구성한다. \n",
    "* 계싼 그래프의 순전파는 통상의 계산을 수행한다. 한편, 계산 그래프의 역전파로는 각 노드의 미분을 구할 수 있다. \n",
    "* 신경망의 구성 요소를 계층으로 구현하여 기울기를 효율적으로 계산할 수 있다(오차역전파법). \n",
    "* 수치 미분과 오차역전파법의 결과를 비교하면 오차역전파법의 구현에 잘못이 없는지 확인할 수 있다(기울기 확인)."
   ]
  }
 ],
 "metadata": {
  "kernelspec": {
   "display_name": "Python 3 (ipykernel)",
   "language": "python",
   "name": "python3"
  },
  "language_info": {
   "codemirror_mode": {
    "name": "ipython",
    "version": 3
   },
   "file_extension": ".py",
   "mimetype": "text/x-python",
   "name": "python",
   "nbconvert_exporter": "python",
   "pygments_lexer": "ipython3",
   "version": "3.10.9"
  }
 },
 "nbformat": 4,
 "nbformat_minor": 5
}
