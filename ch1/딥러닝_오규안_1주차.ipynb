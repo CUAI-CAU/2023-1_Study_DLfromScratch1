{
 "cells": [
  {
   "cell_type": "markdown",
   "id": "f4f80153",
   "metadata": {},
   "source": [
    "# 1.3 파이썬 인터프리터"
   ]
  },
  {
   "cell_type": "markdown",
   "id": "15970f28",
   "metadata": {},
   "source": [
    "## 1.3.1 산술 연산\n",
    "* 뺄셈 (-)\n",
    "* 곱셈 (*)\n",
    "* 나누기 (/)\n",
    "* 제곱 (**)"
   ]
  },
  {
   "cell_type": "code",
   "execution_count": 1,
   "id": "b6d931c8",
   "metadata": {},
   "outputs": [
    {
     "data": {
      "text/plain": [
       "-1"
      ]
     },
     "execution_count": 1,
     "metadata": {},
     "output_type": "execute_result"
    }
   ],
   "source": [
    "1 - 2"
   ]
  },
  {
   "cell_type": "code",
   "execution_count": 2,
   "id": "72c50674",
   "metadata": {},
   "outputs": [
    {
     "data": {
      "text/plain": [
       "20"
      ]
     },
     "execution_count": 2,
     "metadata": {},
     "output_type": "execute_result"
    }
   ],
   "source": [
    "4 * 5"
   ]
  },
  {
   "cell_type": "code",
   "execution_count": 3,
   "id": "57e150fd",
   "metadata": {},
   "outputs": [
    {
     "data": {
      "text/plain": [
       "1.4"
      ]
     },
     "execution_count": 3,
     "metadata": {},
     "output_type": "execute_result"
    }
   ],
   "source": [
    "7 / 5"
   ]
  },
  {
   "cell_type": "code",
   "execution_count": 4,
   "id": "06ec1484",
   "metadata": {},
   "outputs": [
    {
     "data": {
      "text/plain": [
       "9"
      ]
     },
     "execution_count": 4,
     "metadata": {},
     "output_type": "execute_result"
    }
   ],
   "source": [
    "3 ** 2"
   ]
  },
  {
   "cell_type": "markdown",
   "id": "1c6e2f05",
   "metadata": {},
   "source": [
    "## 1.3.2 자료형\n",
    "* 자료형 - 데이터의 성질을 나태내는 것으로, 정수, 소수, 문자열과 같은 형태가 있습니다."
   ]
  },
  {
   "cell_type": "code",
   "execution_count": 5,
   "id": "55b58fe9",
   "metadata": {},
   "outputs": [
    {
     "name": "stdout",
     "output_type": "stream",
     "text": [
      "<class 'int'>\n",
      "<class 'float'>\n",
      "<class 'str'>\n"
     ]
    }
   ],
   "source": [
    "#type() 함수로 데이터의 자료형을 알 수 있습니다.\n",
    "\n",
    "print(type(10))\n",
    "print(type(2.718))\n",
    "print(type(\"hello\"))"
   ]
  },
  {
   "cell_type": "markdown",
   "id": "59fd8b9d",
   "metadata": {},
   "source": [
    "## 1.3.3 변수"
   ]
  },
  {
   "cell_type": "markdown",
   "id": "fca222d0",
   "metadata": {},
   "source": [
    "* 변수 - x와 y 등의 알파벳을 사용하여 계산하거나, 다른 값에 대입 할 수 있습니다."
   ]
  },
  {
   "cell_type": "code",
   "execution_count": 6,
   "id": "0587b100",
   "metadata": {},
   "outputs": [
    {
     "name": "stdout",
     "output_type": "stream",
     "text": [
      "10\n"
     ]
    }
   ],
   "source": [
    "x = 10\n",
    "print(x)"
   ]
  },
  {
   "cell_type": "code",
   "execution_count": 7,
   "id": "b0875066",
   "metadata": {},
   "outputs": [
    {
     "name": "stdout",
     "output_type": "stream",
     "text": [
      "100\n"
     ]
    }
   ],
   "source": [
    "x = 100\n",
    "print(x)"
   ]
  },
  {
   "cell_type": "code",
   "execution_count": 8,
   "id": "85eb3665",
   "metadata": {},
   "outputs": [
    {
     "data": {
      "text/plain": [
       "314.0"
      ]
     },
     "execution_count": 8,
     "metadata": {},
     "output_type": "execute_result"
    }
   ],
   "source": [
    "y = 3.14\n",
    "x * y"
   ]
  },
  {
   "cell_type": "code",
   "execution_count": 9,
   "id": "cab46bc0",
   "metadata": {},
   "outputs": [
    {
     "name": "stdout",
     "output_type": "stream",
     "text": [
      "<class 'float'>\n"
     ]
    }
   ],
   "source": [
    "print(type(x * y))"
   ]
  },
  {
   "cell_type": "markdown",
   "id": "a7db92a6",
   "metadata": {},
   "source": [
    "## 1.3.4 리스트"
   ]
  },
  {
   "cell_type": "code",
   "execution_count": 10,
   "id": "4118dc40",
   "metadata": {},
   "outputs": [
    {
     "name": "stdout",
     "output_type": "stream",
     "text": [
      "[1, 2, 3, 4, 5]\n"
     ]
    }
   ],
   "source": [
    "a = [1, 2, 3, 4, 5]\n",
    "print(a)"
   ]
  },
  {
   "cell_type": "code",
   "execution_count": 11,
   "id": "7ba10530",
   "metadata": {},
   "outputs": [
    {
     "data": {
      "text/plain": [
       "5"
      ]
     },
     "execution_count": 11,
     "metadata": {},
     "output_type": "execute_result"
    }
   ],
   "source": [
    "#len()을 이용하여, 리스트의 크기를 나타낼 수 있습니다. \n",
    "\n",
    "len(a) "
   ]
  },
  {
   "cell_type": "code",
   "execution_count": 12,
   "id": "704e7727",
   "metadata": {},
   "outputs": [
    {
     "data": {
      "text/plain": [
       "1"
      ]
     },
     "execution_count": 12,
     "metadata": {},
     "output_type": "execute_result"
    }
   ],
   "source": [
    "#a[index]를 이용하여, 리스트의 index 자리 원소를 나타낼 수 있습니다. \n",
    "#리스트의 1번째 (index=0)자리 원소를 나타냈습니다. \n",
    "\n",
    "a[0]"
   ]
  },
  {
   "cell_type": "code",
   "execution_count": 13,
   "id": "c57513f4",
   "metadata": {},
   "outputs": [
    {
     "data": {
      "text/plain": [
       "5"
      ]
     },
     "execution_count": 13,
     "metadata": {},
     "output_type": "execute_result"
    }
   ],
   "source": [
    "#리스트의 5번째 (index=4)자리 원소를 나타냈습니다. \n",
    "\n",
    "a[4]"
   ]
  },
  {
   "cell_type": "code",
   "execution_count": 14,
   "id": "7571be0a",
   "metadata": {},
   "outputs": [
    {
     "name": "stdout",
     "output_type": "stream",
     "text": [
      "[1, 2, 3, 4, 99]\n"
     ]
    }
   ],
   "source": [
    "#리스트 5번째 (index=4)자리 원소에 숫자를 지정하여, 리스트를 수정할 수 있습니다.\n",
    "\n",
    "a[4] = 99\n",
    "print(a)"
   ]
  },
  {
   "cell_type": "markdown",
   "id": "447e1fb8",
   "metadata": {},
   "source": [
    "* 슬라이싱 - 이 기법을 이용하여 리스트 안의 특성 원소 하나뿐 아니라 부분 리스트에도 접근이 가능합니다."
   ]
  },
  {
   "cell_type": "code",
   "execution_count": 15,
   "id": "b911b2af",
   "metadata": {},
   "outputs": [
    {
     "name": "stdout",
     "output_type": "stream",
     "text": [
      "[1, 2, 3, 4, 99]\n"
     ]
    }
   ],
   "source": [
    "print(a)"
   ]
  },
  {
   "cell_type": "code",
   "execution_count": 16,
   "id": "bb2807fb",
   "metadata": {},
   "outputs": [
    {
     "data": {
      "text/plain": [
       "[1, 2]"
      ]
     },
     "execution_count": 16,
     "metadata": {},
     "output_type": "execute_result"
    }
   ],
   "source": [
    "#[시작:끝] 범위로 지정하여, 1번째 (index=0)자리 숫자부터 3번째 (index=2) 자리 숫자 미만까지 나타낼 수 있습니다. \n",
    "\n",
    "a[0:2]"
   ]
  },
  {
   "cell_type": "code",
   "execution_count": 17,
   "id": "cfcd479e",
   "metadata": {},
   "outputs": [
    {
     "data": {
      "text/plain": [
       "[2, 3, 4, 99]"
      ]
     },
     "execution_count": 17,
     "metadata": {},
     "output_type": "execute_result"
    }
   ],
   "source": [
    "#[시작:] 범위로 지정하여, 2번째 (index=1)자리 숫자부터 끝 자리 숫자까지 나타낼 수 있습니다. \n",
    "\n",
    "a[1:]"
   ]
  },
  {
   "cell_type": "code",
   "execution_count": 18,
   "id": "66956be7",
   "metadata": {},
   "outputs": [
    {
     "data": {
      "text/plain": [
       "[1, 2, 3]"
      ]
     },
     "execution_count": 18,
     "metadata": {},
     "output_type": "execute_result"
    }
   ],
   "source": [
    "#[:끝] 범위로 지정하여, 4번째 (index=3)자리 미만 숫자까지 나타낼 수 있습니다. \n",
    "\n",
    "a[:3]"
   ]
  },
  {
   "cell_type": "code",
   "execution_count": 19,
   "id": "5cb62ba6",
   "metadata": {},
   "outputs": [
    {
     "data": {
      "text/plain": [
       "[1, 2, 3, 4]"
      ]
     },
     "execution_count": 19,
     "metadata": {},
     "output_type": "execute_result"
    }
   ],
   "source": [
    "#[:음수] 범위로 지정하여, 끝에서 (리스트 길이 -1)번째 자리 미만 숫자까지 나타낼 수 있습니다. \n",
    "a[:-1]"
   ]
  },
  {
   "cell_type": "code",
   "execution_count": 20,
   "id": "712b3231",
   "metadata": {},
   "outputs": [
    {
     "data": {
      "text/plain": [
       "[1, 2, 3]"
      ]
     },
     "execution_count": 20,
     "metadata": {},
     "output_type": "execute_result"
    }
   ],
   "source": [
    "#[:음수] 범위로 지정하여, 끝에서 (리스트 크기 -2)번째 자리 미만 숫자까지 나타낼 수 있습니다. \n",
    "a[:-2]"
   ]
  },
  {
   "cell_type": "markdown",
   "id": "bbb44716",
   "metadata": {},
   "source": [
    "## 1.3.5 딕셔너리\n",
    "* 딕셔너리는 키와 값을 한 쌍으로 저장합니다."
   ]
  },
  {
   "cell_type": "code",
   "execution_count": 21,
   "id": "f051aa15",
   "metadata": {},
   "outputs": [
    {
     "data": {
      "text/plain": [
       "180"
      ]
     },
     "execution_count": 21,
     "metadata": {},
     "output_type": "execute_result"
    }
   ],
   "source": [
    "#딕셔너리로 키(height)와 값(180)으로 저정할 수 있습니다. \n",
    "\n",
    "me = {'height':180}    #딕셔너리 생성 \n",
    "me['height']           #원소에 접근"
   ]
  },
  {
   "cell_type": "code",
   "execution_count": 22,
   "id": "2c468972",
   "metadata": {},
   "outputs": [
    {
     "name": "stdout",
     "output_type": "stream",
     "text": [
      "{'height': 180, 'weight': 70}\n"
     ]
    }
   ],
   "source": [
    "#딕셔너리로 키(weight)와 값(70)으로 저정할 수 있습니다. \n",
    "\n",
    "me['weight'] = 70      #새 원소 추가\n",
    "print(me)"
   ]
  },
  {
   "cell_type": "markdown",
   "id": "ea93cace",
   "metadata": {},
   "source": [
    "## 1.3.6 bool\n",
    "* bool은 자료형이며, True와 False라는 두 값 중 하나를 취합니다. 또한, and, or, not이라는 연산자를 사용 할 수 있습니다."
   ]
  },
  {
   "cell_type": "code",
   "execution_count": 23,
   "id": "4e7964e0",
   "metadata": {},
   "outputs": [
    {
     "data": {
      "text/plain": [
       "bool"
      ]
     },
     "execution_count": 23,
     "metadata": {},
     "output_type": "execute_result"
    }
   ],
   "source": [
    "hungry = True       \n",
    "sleepy = False\n",
    "type(hungry)"
   ]
  },
  {
   "cell_type": "code",
   "execution_count": 25,
   "id": "ed26bce3",
   "metadata": {},
   "outputs": [
    {
     "data": {
      "text/plain": [
       "False"
      ]
     },
     "execution_count": 25,
     "metadata": {},
     "output_type": "execute_result"
    }
   ],
   "source": [
    "#not이 붙으면, True에서 False, False에서 True로 변형됩니다.\n",
    "\n",
    "not hungry"
   ]
  },
  {
   "cell_type": "code",
   "execution_count": 26,
   "id": "92cb47fa",
   "metadata": {},
   "outputs": [
    {
     "data": {
      "text/plain": [
       "False"
      ]
     },
     "execution_count": 26,
     "metadata": {},
     "output_type": "execute_result"
    }
   ],
   "source": [
    "#and가 있으면, (True,True)면 True, (True,False) 또는 (False,True)면 False, (False,False)면 False입니다. \n",
    "\n",
    "hungry and sleepy"
   ]
  },
  {
   "cell_type": "code",
   "execution_count": 27,
   "id": "f0e66457",
   "metadata": {},
   "outputs": [
    {
     "data": {
      "text/plain": [
       "True"
      ]
     },
     "execution_count": 27,
     "metadata": {},
     "output_type": "execute_result"
    }
   ],
   "source": [
    "#or이 있으면, True가 1개 이상이라도 있으면, 항상 True이고, True가 1개라도 없으면, False가 됩니다. \n",
    "\n",
    "hungry or sleepy"
   ]
  },
  {
   "cell_type": "markdown",
   "id": "ef4612fd",
   "metadata": {},
   "source": [
    "## 1.3.7 if 문"
   ]
  },
  {
   "cell_type": "code",
   "execution_count": 28,
   "id": "7d575c7e",
   "metadata": {},
   "outputs": [
    {
     "name": "stdout",
     "output_type": "stream",
     "text": [
      "I'm hungry\n"
     ]
    }
   ],
   "source": [
    "#만약 hungry가 True라면, if 문 안에 있는 문장을 출력합니다. \n",
    "\n",
    "hungry = True\n",
    "if hungry:\n",
    "    print(\"I'm hungry\")"
   ]
  },
  {
   "cell_type": "code",
   "execution_count": 29,
   "id": "b54e0f94",
   "metadata": {},
   "outputs": [
    {
     "name": "stdout",
     "output_type": "stream",
     "text": [
      "I'm not hungry\n",
      "I'm sleepy\n"
     ]
    }
   ],
   "source": [
    "#만약 hungry가 False라면, else문 안에 있는 문장들을 출력합니다. \n",
    "\n",
    "hungry = False\n",
    "if hungry:\n",
    "    print(\"I'm hungry\")\n",
    "else:\n",
    "    print(\"I'm not hungry\")\n",
    "    print(\"I'm sleepy\")"
   ]
  },
  {
   "cell_type": "markdown",
   "id": "8ff4b8f6",
   "metadata": {},
   "source": [
    "## 1.3.8 for 문"
   ]
  },
  {
   "cell_type": "code",
   "execution_count": 30,
   "id": "e491e2ec",
   "metadata": {},
   "outputs": [
    {
     "name": "stdout",
     "output_type": "stream",
     "text": [
      "1\n",
      "2\n",
      "3\n"
     ]
    }
   ],
   "source": [
    "for i in [1, 2, 3]: \n",
    "    print(i)"
   ]
  },
  {
   "cell_type": "markdown",
   "id": "276ad799",
   "metadata": {},
   "source": [
    "## 1.3.9 함수"
   ]
  },
  {
   "cell_type": "code",
   "execution_count": 31,
   "id": "2a5ecd61",
   "metadata": {},
   "outputs": [
    {
     "name": "stdout",
     "output_type": "stream",
     "text": [
      "Hello World!\n"
     ]
    }
   ],
   "source": [
    "def hello():\n",
    "    print(\"Hello World!\")\n",
    "\n",
    "hello() "
   ]
  },
  {
   "cell_type": "code",
   "execution_count": 32,
   "id": "a2a12c6d",
   "metadata": {},
   "outputs": [
    {
     "name": "stdout",
     "output_type": "stream",
     "text": [
      "Hello cat!\n"
     ]
    }
   ],
   "source": [
    "def hello(object): \n",
    "    print(\"Hello \" + object + \"!\") \n",
    "    \n",
    "hello(\"cat\") "
   ]
  },
  {
   "cell_type": "markdown",
   "id": "d34a6cc3",
   "metadata": {},
   "source": [
    "# 1.4 파이썬 스크립트 파일"
   ]
  },
  {
   "cell_type": "markdown",
   "id": "ad0283a0",
   "metadata": {},
   "source": [
    "## 1.4.1 파일로 저장하기"
   ]
  },
  {
   "cell_type": "code",
   "execution_count": 33,
   "id": "3ba90e74",
   "metadata": {},
   "outputs": [
    {
     "name": "stdout",
     "output_type": "stream",
     "text": [
      "I'm hungry!\n"
     ]
    }
   ],
   "source": [
    "print(\"I'm hungry!\")"
   ]
  },
  {
   "cell_type": "code",
   "execution_count": 35,
   "id": "93f6f76d",
   "metadata": {},
   "outputs": [
    {
     "ename": "SyntaxError",
     "evalue": "invalid syntax (2698633209.py, line 1)",
     "output_type": "error",
     "traceback": [
      "\u001b[1;36m  File \u001b[1;32m\"C:\\Users\\user\\AppData\\Local\\Temp\\ipykernel_15564\\2698633209.py\"\u001b[1;36m, line \u001b[1;32m1\u001b[0m\n\u001b[1;33m    $ cd ~/deep-learning-from-scratch/ch01        # 디렉터리로 이동\u001b[0m\n\u001b[1;37m    ^\u001b[0m\n\u001b[1;31mSyntaxError\u001b[0m\u001b[1;31m:\u001b[0m invalid syntax\n"
     ]
    }
   ],
   "source": [
    "$ cd ~/deep-learning-from-scratch/ch01        # 디렉터리로 이동\n",
    "$ python hungry.py"
   ]
  },
  {
   "cell_type": "markdown",
   "id": "462a1a33",
   "metadata": {},
   "source": [
    "## 1.4.2 클래스"
   ]
  },
  {
   "cell_type": "code",
   "execution_count": 36,
   "id": "68d333a2",
   "metadata": {},
   "outputs": [
    {
     "ename": "SyntaxError",
     "evalue": "invalid syntax (701950990.py, line 1)",
     "output_type": "error",
     "traceback": [
      "\u001b[1;36m  File \u001b[1;32m\"C:\\Users\\user\\AppData\\Local\\Temp\\ipykernel_15564\\701950990.py\"\u001b[1;36m, line \u001b[1;32m1\u001b[0m\n\u001b[1;33m    class 클래스 이름:\u001b[0m\n\u001b[1;37m              ^\u001b[0m\n\u001b[1;31mSyntaxError\u001b[0m\u001b[1;31m:\u001b[0m invalid syntax\n"
     ]
    }
   ],
   "source": [
    "class 클래스 이름:\n",
    "    def __init__(self, 인수, ...):              # 생성자\n",
    "        ...\n",
    "    def 매서드 이름 1 (self, 인수, ...):        # 메서드 1 \n",
    "        ...\n",
    "    def 매서드 이름 2 (self, 인수, ...):        # 메서드 2\n",
    "        ..."
   ]
  },
  {
   "cell_type": "code",
   "execution_count": 39,
   "id": "246a6446",
   "metadata": {},
   "outputs": [
    {
     "name": "stdout",
     "output_type": "stream",
     "text": [
      "Initialized!\n",
      "hello David!\n",
      "Good-bye David!\n"
     ]
    }
   ],
   "source": [
    "class Man:\n",
    "    def __init__(self, name):\n",
    "        self.name = name\n",
    "        print(\"Initialized!\")\n",
    "        \n",
    "    # __init__을 이용하여, 클래스를 초기화 할 수 있습니다.\n",
    "        \n",
    "    def hello(self):\n",
    "        print(\"hello \" + self.name + \"!\")\n",
    "\n",
    "    def goodbye(self):\n",
    "        print(\"Good-bye \" + self.name + \"!\")\n",
    "\n",
    "# 생성자는 클래스의 인스턴스가 만들어질 때, 1번만 불립니다. \n",
    "# 파이썬에서는 메서드의 첫 번째 인수를 자신을 나타내는 self를 명시적으로 씁니다. \n",
    "\n",
    "m = Man(\"David\")\n",
    "m.hello()\n",
    "m.goodbye()"
   ]
  },
  {
   "cell_type": "markdown",
   "id": "943ffd2a",
   "metadata": {},
   "source": [
    "# 1.5 넘파이"
   ]
  },
  {
   "cell_type": "markdown",
   "id": "f8f52307",
   "metadata": {},
   "source": [
    "## 1.5.1 넘파이 가져오기"
   ]
  },
  {
   "cell_type": "code",
   "execution_count": 40,
   "id": "62a05463",
   "metadata": {},
   "outputs": [],
   "source": [
    "import numpy as np"
   ]
  },
  {
   "cell_type": "markdown",
   "id": "3fb4c6bf",
   "metadata": {},
   "source": [
    "## 1.5.2 넘파이 배열 생성하기"
   ]
  },
  {
   "cell_type": "code",
   "execution_count": 44,
   "id": "0f221f4e",
   "metadata": {},
   "outputs": [
    {
     "name": "stdout",
     "output_type": "stream",
     "text": [
      "[1. 2. 3.]\n"
     ]
    }
   ],
   "source": [
    "#np.array()는 리스트를 인수로 받아 numpy.ndarray을 반환합니다. \n",
    "\n",
    "x = np.array([1.0, 2.0, 3.0])\n",
    "print(x)"
   ]
  },
  {
   "cell_type": "code",
   "execution_count": 45,
   "id": "14306fe6",
   "metadata": {
    "scrolled": true
   },
   "outputs": [
    {
     "data": {
      "text/plain": [
       "numpy.ndarray"
      ]
     },
     "execution_count": 45,
     "metadata": {},
     "output_type": "execute_result"
    }
   ],
   "source": [
    "type(x)"
   ]
  },
  {
   "cell_type": "markdown",
   "id": "b2301e10",
   "metadata": {},
   "source": [
    "## 1.5.3 넘파이의 산술 연산"
   ]
  },
  {
   "cell_type": "markdown",
   "id": "b58fc6cf",
   "metadata": {},
   "source": [
    "* 넘파이 배열로 산술 연산을 수행하려면, 배열들의 원소 수가 같아야 합니다. "
   ]
  },
  {
   "cell_type": "code",
   "execution_count": 46,
   "id": "ee18d74b",
   "metadata": {},
   "outputs": [],
   "source": [
    "x = np.array([1.0, 2.0, 3.0])"
   ]
  },
  {
   "cell_type": "code",
   "execution_count": 47,
   "id": "ef756a95",
   "metadata": {},
   "outputs": [],
   "source": [
    "y = np.array([2.0, 4.0, 6.0])"
   ]
  },
  {
   "cell_type": "code",
   "execution_count": 48,
   "id": "b4ce9434",
   "metadata": {},
   "outputs": [
    {
     "data": {
      "text/plain": [
       "array([3., 6., 9.])"
      ]
     },
     "execution_count": 48,
     "metadata": {},
     "output_type": "execute_result"
    }
   ],
   "source": [
    "x + y"
   ]
  },
  {
   "cell_type": "code",
   "execution_count": 49,
   "id": "be0d1e90",
   "metadata": {},
   "outputs": [
    {
     "data": {
      "text/plain": [
       "array([-1., -2., -3.])"
      ]
     },
     "execution_count": 49,
     "metadata": {},
     "output_type": "execute_result"
    }
   ],
   "source": [
    "x - y"
   ]
  },
  {
   "cell_type": "code",
   "execution_count": 50,
   "id": "e5059861",
   "metadata": {},
   "outputs": [
    {
     "data": {
      "text/plain": [
       "array([ 2.,  8., 18.])"
      ]
     },
     "execution_count": 50,
     "metadata": {},
     "output_type": "execute_result"
    }
   ],
   "source": [
    "x * y"
   ]
  },
  {
   "cell_type": "code",
   "execution_count": 51,
   "id": "4081b1eb",
   "metadata": {},
   "outputs": [
    {
     "data": {
      "text/plain": [
       "array([0.5, 0.5, 0.5])"
      ]
     },
     "execution_count": 51,
     "metadata": {},
     "output_type": "execute_result"
    }
   ],
   "source": [
    "x / y"
   ]
  },
  {
   "cell_type": "markdown",
   "id": "5ad71658",
   "metadata": {},
   "source": [
    "## 1.5.4 넘파이의 N차원 배열"
   ]
  },
  {
   "cell_type": "code",
   "execution_count": 56,
   "id": "10439f1f",
   "metadata": {},
   "outputs": [
    {
     "name": "stdout",
     "output_type": "stream",
     "text": [
      "[[1 2]\n",
      " [3 4]]\n"
     ]
    }
   ],
   "source": [
    "#2차원 배열의 예시입니다.\n",
    "\n",
    "A = np.array([[1,2], [3,4]])\n",
    "print(A)"
   ]
  },
  {
   "cell_type": "code",
   "execution_count": 58,
   "id": "b66d5eb4",
   "metadata": {
    "collapsed": true
   },
   "outputs": [
    {
     "data": {
      "text/plain": [
       "(2, 2)"
      ]
     },
     "execution_count": 58,
     "metadata": {},
     "output_type": "execute_result"
    }
   ],
   "source": [
    "#np.array에 담긴 행의 형상은 shape로 알 수 있습니다. \n",
    "\n",
    "A.shape"
   ]
  },
  {
   "cell_type": "code",
   "execution_count": 59,
   "id": "3704eab6",
   "metadata": {},
   "outputs": [
    {
     "data": {
      "text/plain": [
       "dtype('int32')"
      ]
     },
     "execution_count": 59,
     "metadata": {},
     "output_type": "execute_result"
    }
   ],
   "source": [
    "#np.array에 담긴 원소의 자료형은 dtype로 알 수 있습니다. \n",
    "\n",
    "A.dtype"
   ]
  },
  {
   "cell_type": "code",
   "execution_count": 60,
   "id": "43d9c85e",
   "metadata": {},
   "outputs": [],
   "source": [
    "B = np.array([[3,0], [0,6]])"
   ]
  },
  {
   "cell_type": "code",
   "execution_count": 61,
   "id": "b09f6c93",
   "metadata": {},
   "outputs": [
    {
     "data": {
      "text/plain": [
       "array([[ 4,  2],\n",
       "       [ 3, 10]])"
      ]
     },
     "execution_count": 61,
     "metadata": {},
     "output_type": "execute_result"
    }
   ],
   "source": [
    "A + B"
   ]
  },
  {
   "cell_type": "code",
   "execution_count": 62,
   "id": "f83db422",
   "metadata": {},
   "outputs": [
    {
     "data": {
      "text/plain": [
       "array([[ 3,  0],\n",
       "       [ 0, 24]])"
      ]
     },
     "execution_count": 62,
     "metadata": {},
     "output_type": "execute_result"
    }
   ],
   "source": [
    "A * B"
   ]
  },
  {
   "cell_type": "code",
   "execution_count": 63,
   "id": "9afa4ee0",
   "metadata": {},
   "outputs": [
    {
     "name": "stdout",
     "output_type": "stream",
     "text": [
      "[[1 2]\n",
      " [3 4]]\n"
     ]
    }
   ],
   "source": [
    "print(A)"
   ]
  },
  {
   "cell_type": "code",
   "execution_count": 64,
   "id": "87adb226",
   "metadata": {},
   "outputs": [
    {
     "data": {
      "text/plain": [
       "array([[10, 20],\n",
       "       [30, 40]])"
      ]
     },
     "execution_count": 64,
     "metadata": {},
     "output_type": "execute_result"
    }
   ],
   "source": [
    "A * 10"
   ]
  },
  {
   "cell_type": "markdown",
   "id": "b801b9ba",
   "metadata": {},
   "source": [
    "## 1.5.5 브로드캐스트"
   ]
  },
  {
   "cell_type": "code",
   "execution_count": 66,
   "id": "0d36a595",
   "metadata": {},
   "outputs": [
    {
     "data": {
      "text/plain": [
       "array([[10, 40],\n",
       "       [30, 80]])"
      ]
     },
     "execution_count": 66,
     "metadata": {},
     "output_type": "execute_result"
    }
   ],
   "source": [
    "#1차원의 배열 B와 2차원의 배열 A를 곱셈하여 나타낼 수 있습니다. \n",
    "#1차원의 배열 B가 2차원의 배열 A와 똑같은 형상으로 변형된 후, 원소별 연산이 이뤄집니다. \n",
    "\n",
    "A = np.array([[1, 2], [3, 4]])          \n",
    "B = np.array([10, 20])                  \n",
    "A * B  "
   ]
  },
  {
   "cell_type": "markdown",
   "id": "ea549a18",
   "metadata": {},
   "source": [
    "## 1.5.6 원소 접근"
   ]
  },
  {
   "cell_type": "code",
   "execution_count": 67,
   "id": "afdbcd70",
   "metadata": {},
   "outputs": [
    {
     "name": "stdout",
     "output_type": "stream",
     "text": [
      "[[51 55]\n",
      " [14 19]\n",
      " [ 0  4]]\n"
     ]
    }
   ],
   "source": [
    "X = np.array([[51, 55], [14, 19], [0, 4]])\n",
    "print(X)"
   ]
  },
  {
   "cell_type": "code",
   "execution_count": 68,
   "id": "78b658db",
   "metadata": {},
   "outputs": [
    {
     "data": {
      "text/plain": [
       "array([51, 55])"
      ]
     },
     "execution_count": 68,
     "metadata": {},
     "output_type": "execute_result"
    }
   ],
   "source": [
    "#X[index 행]를 이용하여, index 행의 원소를 나타낼 수 있습니다. \n",
    "\n",
    "X[0]          "
   ]
  },
  {
   "cell_type": "code",
   "execution_count": 70,
   "id": "fa1b1100",
   "metadata": {},
   "outputs": [
    {
     "data": {
      "text/plain": [
       "55"
      ]
     },
     "execution_count": 70,
     "metadata": {},
     "output_type": "execute_result"
    }
   ],
   "source": [
    "#X[index 행][index 열]를 이용하여, index 행와 index 열의 정확한 원소를 나타낼 수 있습니다.\n",
    "\n",
    "X[0][1]"
   ]
  },
  {
   "cell_type": "code",
   "execution_count": 71,
   "id": "e6112fb9",
   "metadata": {},
   "outputs": [
    {
     "name": "stdout",
     "output_type": "stream",
     "text": [
      "[51 55]\n",
      "[14 19]\n",
      "[0 4]\n"
     ]
    }
   ],
   "source": [
    "for row in X:\n",
    "    print(row)"
   ]
  },
  {
   "cell_type": "code",
   "execution_count": 72,
   "id": "07a24fb6",
   "metadata": {},
   "outputs": [
    {
     "name": "stdout",
     "output_type": "stream",
     "text": [
      "[51 55 14 19  0  4]\n"
     ]
    }
   ],
   "source": [
    "#flatten() 함수를 이용하여, 1차원의 배열로 변환할 수 있습니다. (평탄화)\n",
    "\n",
    "X = X.flatten()\n",
    "print(X)"
   ]
  },
  {
   "cell_type": "code",
   "execution_count": 73,
   "id": "4ae47739",
   "metadata": {},
   "outputs": [
    {
     "data": {
      "text/plain": [
       "array([51, 14,  0])"
      ]
     },
     "execution_count": 73,
     "metadata": {},
     "output_type": "execute_result"
    }
   ],
   "source": [
    "X[np.array([0, 2, 4])]     #인덱스가 0, 2, 4인 원소 얻기"
   ]
  },
  {
   "cell_type": "code",
   "execution_count": 74,
   "id": "2d7b8cb8",
   "metadata": {},
   "outputs": [
    {
     "data": {
      "text/plain": [
       "array([ True,  True, False,  True, False, False])"
      ]
     },
     "execution_count": 74,
     "metadata": {},
     "output_type": "execute_result"
    }
   ],
   "source": [
    "#평탄화 된 X에게 조건을 설정하여, 조건에 만족하면 True, 조건에 만족하지 못하면 False로 나타냅니다.\n",
    "\n",
    "X > 15"
   ]
  },
  {
   "cell_type": "code",
   "execution_count": 75,
   "id": "93091936",
   "metadata": {},
   "outputs": [
    {
     "data": {
      "text/plain": [
       "array([51, 55, 19])"
      ]
     },
     "execution_count": 75,
     "metadata": {},
     "output_type": "execute_result"
    }
   ],
   "source": [
    "#X[기준]으로 기준에 만족하는 원소들을 나타냅니다.\n",
    "\n",
    "X[X>15]"
   ]
  },
  {
   "cell_type": "markdown",
   "id": "9a7429e7",
   "metadata": {},
   "source": [
    "# 1.6 matplotlib\n",
    "* 그래프를 그리기 위해서 matplotlib의 pyplot 모듈을 이용합니다."
   ]
  },
  {
   "cell_type": "markdown",
   "id": "5f66a7b5",
   "metadata": {},
   "source": [
    "## 1.6.1 단순한 그래프 그리기"
   ]
  },
  {
   "cell_type": "code",
   "execution_count": 76,
   "id": "f4a1de70",
   "metadata": {},
   "outputs": [],
   "source": [
    "import numpy as np \n",
    "import matplotlib.pyplot as plt"
   ]
  },
  {
   "cell_type": "code",
   "execution_count": 78,
   "id": "da7fa6f8",
   "metadata": {},
   "outputs": [],
   "source": [
    "# 데이터 준비\n",
    "x = np.arange(0, 6, 0.1)     # 0에서 6까지 0.1 간격으로 생성\n",
    "y = np.sin(x)"
   ]
  },
  {
   "cell_type": "code",
   "execution_count": 79,
   "id": "25b7375c",
   "metadata": {
    "scrolled": false
   },
   "outputs": [
    {
     "data": {
      "image/png": "[encoded data removed]",
      "text/plain": [
       "<Figure size 640x480 with 1 Axes>"
      ]
     },
     "metadata": {},
     "output_type": "display_data"
    }
   ],
   "source": [
    "#그래프 그리기\n",
    "plt.plot(x,y)\n",
    "plt.show()"
   ]
  },
  {
   "cell_type": "markdown",
   "id": "0a1b307e",
   "metadata": {},
   "source": [
    "## 1.6.2 pyplot의 기능"
   ]
  },
  {
   "cell_type": "code",
   "execution_count": 81,
   "id": "b2a10bf5",
   "metadata": {},
   "outputs": [
    {
     "data": {
      "image/png": "[encoded data removed]",
      "text/plain": [
       "<Figure size 640x480 with 1 Axes>"
      ]
     },
     "metadata": {},
     "output_type": "display_data"
    }
   ],
   "source": [
    "import numpy as np\n",
    "import matplotlib.pyplot as plt\n",
    "\n",
    "# 데이터 준비\n",
    "x = np.arange(0, 6, 0.1)    # 0에서 6까지 0.1씩 간격으로 만든다\n",
    "y1 = np.sin(x)              \n",
    "y2 = np.cos(x)              \n",
    "\n",
    "# 그래프 그리기\n",
    "plt.plot(x, y1, label=\"sin\")\n",
    "plt.plot(x, y2, linestyle=\"--\", label=\"cos\")   # cos 함수는 점선으로 그리기 \n",
    "plt.xlabel(\"x\")                                # x축 이름 설정하기\n",
    "plt.ylabel(\"y\")                                # y축 이름 설정하기 \n",
    "plt.title('sin & cos')                         # 제목 설정하기\n",
    "plt.legend()                                   # 범례 표시하기\n",
    "plt.show()                                     # 표현하기"
   ]
  },
  {
   "cell_type": "markdown",
   "id": "9546cc36",
   "metadata": {},
   "source": [
    "## 1.6.3 이미지 표시하기"
   ]
  },
  {
   "cell_type": "code",
   "execution_count": 83,
   "id": "63f04e7f",
   "metadata": {},
   "outputs": [
    {
     "data": {
      "image/png": "[encoded data removed]",
      "text/plain": [
       "<Figure size 640x480 with 1 Axes>"
      ]
     },
     "metadata": {},
     "output_type": "display_data"
    }
   ],
   "source": [
    "import matplotlib.pyplot as plt\n",
    "from matplotlib.image import imread\n",
    "\n",
    "img = imread(\"C:/Users/user/Pictures/중앙대학교 로고.png\")\n",
    "\n",
    "plt.imshow(img)\n",
    "plt.show()"
   ]
  },
  {
   "cell_type": "markdown",
   "id": "0830137b",
   "metadata": {},
   "source": [
    "# 1.7 정리"
   ]
  },
  {
   "cell_type": "markdown",
   "id": "f8a9c94e",
   "metadata": {},
   "source": [
    "### 이번 장에서 배운 내용\n",
    "* 파이썬은 간단하고 익히기 쉬운 프로그래밍 언어입니다. \n",
    "* 파이썬은 오픈 소스여서 자유롭게 사용할 수 있습니다. \n",
    "* 이 책은 딥러닝 구현에 파이썬 3 버전을 이용합니다. \n",
    "* 외부 라이브러리로는 넘파이와 matplotlib을 이용합니다. \n",
    "* 파이썬을 실행하는 방식에는 '인터프리터'와 '스크립트 파일' 두 가지가 있습니다. \n",
    "* 파이썬에서는 함수와 클래스 같은 모듈로 구현을 정리할 수 있습니다. \n",
    "* 넘파이는 다차원 배열을 다루는 편리한 메서드를 많이 제공합니다. "
   ]
  }
 ],
 "metadata": {
  "kernelspec": {
   "display_name": "Python 3 (ipykernel)",
   "language": "python",
   "name": "python3"
  },
  "language_info": {
   "codemirror_mode": {
    "name": "ipython",
    "version": 3
   },
   "file_extension": ".py",
   "mimetype": "text/x-python",
   "name": "python",
   "nbconvert_exporter": "python",
   "pygments_lexer": "ipython3",
   "version": "3.9.13"
  }
 },
 "nbformat": 4,
 "nbformat_minor": 5
}
