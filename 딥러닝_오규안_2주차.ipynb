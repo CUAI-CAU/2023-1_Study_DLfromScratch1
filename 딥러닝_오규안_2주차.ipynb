{
 "cells": [
  {
   "cell_type": "markdown",
   "id": "87a3fff7",
   "metadata": {},
   "source": [
    "# 2.1 퍼센트론이란?\n",
    "* 퍼셉트론은 다수의 신호를 입력으로 받아 하나의 신호를 출력합니다. "
   ]
  },
  {
   "cell_type": "markdown",
   "id": "16460276",
   "metadata": {},
   "source": [
    "* x1, x2 = 입력 신호\n",
    "* y = 출력 신호 \n",
    "* w1, w2 = 가중치"
   ]
  },
  {
   "cell_type": "markdown",
   "id": "ae8cfc09",
   "metadata": {},
   "source": [
    "* 입력 신호가 뉴런에 보내질 때, 가중치가 곱해집니다. \n",
    "* 뉴런에서 보내온 신호의 합이 설정한 한계를 넘어서면 1을 출력합니다. \n",
    "* 이 한계를 \"임계값\"이라고 합니다. "
   ]
  },
  {
   "cell_type": "markdown",
   "id": "ea97f02c",
   "metadata": {},
   "source": [
    "# 2.2 단순한 논리 회로"
   ]
  },
  {
   "cell_type": "markdown",
   "id": "e88aeebf",
   "metadata": {},
   "source": [
    "## 2.2.1 AND 게이트"
   ]
  },
  {
   "cell_type": "markdown",
   "id": "b1fb8436",
   "metadata": {},
   "source": [
    "* 입력이 2개이고 출력은 1개입니다. \n",
    "* 진리표: 입력 신호와 출력 신호의 대응 표"
   ]
  },
  {
   "cell_type": "markdown",
   "id": "cade31f8",
   "metadata": {},
   "source": [
    "## 2.2.2 NAND 게이트와 OR 게이트"
   ]
  },
  {
   "cell_type": "markdown",
   "id": "2bd65f24",
   "metadata": {},
   "source": [
    "* NAND는 Not AND를 의미하며, AND 게이트의 출력을 뒤집은 것이 됩니다."
   ]
  },
  {
   "cell_type": "markdown",
   "id": "aefcaed9",
   "metadata": {},
   "source": [
    "* OR 게이트는 입력 신호 중 하나 이상이 1이며 출력이 1이 되는 논리 회로 입니다."
   ]
  },
  {
   "cell_type": "markdown",
   "id": "909eccc8",
   "metadata": {},
   "source": [
    "# 2.3 퍼셉트론 구현하기"
   ]
  },
  {
   "cell_type": "markdown",
   "id": "32f00ce5",
   "metadata": {},
   "source": [
    "## 2.3.1 간단한 구현부터"
   ]
  },
  {
   "cell_type": "code",
   "execution_count": 4,
   "id": "5cdc64c2",
   "metadata": {},
   "outputs": [],
   "source": [
    "#AND 함수를 만들었습니다.\n",
    "\n",
    "def AND(x1, x2):\n",
    "    w1, w2, theta = 0.5, 0.5, 0.7       #가중치는 각각 0.5로 설정, 임계값은 0.7로 설정\n",
    "    tmp = x1*w1 + x2*w2                #뉴런에서 보내온 신호의 합\n",
    "    if tmp <= theta:\n",
    "        return 0                       #임계값을 넘지 못하면, 0을 출력\n",
    "    elif tmp > theta:\n",
    "        return 1                       #임계값을 넘으면, 1을 출력"
   ]
  },
  {
   "cell_type": "code",
   "execution_count": 5,
   "id": "9e5145cb",
   "metadata": {},
   "outputs": [
    {
     "data": {
      "text/plain": [
       "0"
      ]
     },
     "execution_count": 5,
     "metadata": {},
     "output_type": "execute_result"
    }
   ],
   "source": [
    "AND(0,0)"
   ]
  },
  {
   "cell_type": "code",
   "execution_count": 6,
   "id": "01376da3",
   "metadata": {},
   "outputs": [
    {
     "data": {
      "text/plain": [
       "0"
      ]
     },
     "execution_count": 6,
     "metadata": {},
     "output_type": "execute_result"
    }
   ],
   "source": [
    "AND(1,0)"
   ]
  },
  {
   "cell_type": "code",
   "execution_count": 7,
   "id": "443ba352",
   "metadata": {},
   "outputs": [
    {
     "data": {
      "text/plain": [
       "0"
      ]
     },
     "execution_count": 7,
     "metadata": {},
     "output_type": "execute_result"
    }
   ],
   "source": [
    "AND(0,1)"
   ]
  },
  {
   "cell_type": "code",
   "execution_count": 8,
   "id": "da55aeaf",
   "metadata": {},
   "outputs": [
    {
     "data": {
      "text/plain": [
       "1"
      ]
     },
     "execution_count": 8,
     "metadata": {},
     "output_type": "execute_result"
    }
   ],
   "source": [
    "AND(1,1)"
   ]
  },
  {
   "cell_type": "markdown",
   "id": "1c4f8fdf",
   "metadata": {},
   "source": [
    "## 2.3.2 가중치와 편향 도입"
   ]
  },
  {
   "cell_type": "markdown",
   "id": "eadecf33",
   "metadata": {},
   "source": [
    "* 퍼셉트론은 입력 신호에 가중치를 곱한 값과 편향을 합하여, 그 값이 0을 넘으면 1을 출력하고, 그렇지 않으면 0을 출력합니다."
   ]
  },
  {
   "cell_type": "code",
   "execution_count": 10,
   "id": "08bcb18d",
   "metadata": {},
   "outputs": [
    {
     "data": {
      "text/plain": [
       "array([0. , 0.5])"
      ]
     },
     "execution_count": 10,
     "metadata": {},
     "output_type": "execute_result"
    }
   ],
   "source": [
    "import numpy as np\n",
    "x = np.array([0, 1])        #입력\n",
    "w = np.array([0.5, 0.5])    #가중치\n",
    "b = -0.7                    #편향\n",
    "w*x"
   ]
  },
  {
   "cell_type": "code",
   "execution_count": 11,
   "id": "4ab4bb1b",
   "metadata": {},
   "outputs": [
    {
     "data": {
      "text/plain": [
       "0.5"
      ]
     },
     "execution_count": 11,
     "metadata": {},
     "output_type": "execute_result"
    }
   ],
   "source": [
    "np.sum(w*x)"
   ]
  },
  {
   "cell_type": "code",
   "execution_count": 12,
   "id": "868c0ee6",
   "metadata": {},
   "outputs": [
    {
     "data": {
      "text/plain": [
       "-0.19999999999999996"
      ]
     },
     "execution_count": 12,
     "metadata": {},
     "output_type": "execute_result"
    }
   ],
   "source": [
    "np.sum(w*x) + b"
   ]
  },
  {
   "cell_type": "markdown",
   "id": "d6a890a4",
   "metadata": {},
   "source": [
    "## 2.3.3 가중치와 편향 구현하기"
   ]
  },
  {
   "cell_type": "markdown",
   "id": "92245057",
   "metadata": {},
   "source": [
    "* 가중치와 편향을 도입한 AND 게이트"
   ]
  },
  {
   "cell_type": "code",
   "execution_count": 14,
   "id": "541d1917",
   "metadata": {},
   "outputs": [],
   "source": [
    "def AND(x1, x2):\n",
    "    x = np.array([x1, x2])\n",
    "    w = np.array([0.5, 0.5])    #가중치를 각각 0.5로 설정    \n",
    "    b = -0.7                    #편향을 -0.7로 설정\n",
    "    tmp = np.sum(w*x) + b       #뉴런에서 보내온 가중치 x 입력신호 + 편향\n",
    "    if tmp <= 0:                \n",
    "        return 0                #0을 넘지 않으면 0을 출력\n",
    "    else:\n",
    "        return 1                #0을 넘으면 1을 출력"
   ]
  },
  {
   "cell_type": "markdown",
   "id": "b35e2dda",
   "metadata": {},
   "source": [
    "* 가중치와 편향을 도입한 NAND 게이트와 OR 게이트"
   ]
  },
  {
   "cell_type": "code",
   "execution_count": 15,
   "id": "dc8d1da0",
   "metadata": {},
   "outputs": [],
   "source": [
    "def NAND(x1, x2):\n",
    "    x = np.array([x1, x2])\n",
    "    w = np.array([-0.5, -0.5])  # AND와는 가중치(w, b)만 다르다\n",
    "    b = 0.7                     # 편향을 0.7로 설정\n",
    "    tmp = np.sum(w*x) + b       #뉴런에서 보내온 가중치 x 입력신호 + 편향\n",
    "    if tmp <= 0:\n",
    "        return 0                #0을 넘지 않으면 0을 출력\n",
    "    else:\n",
    "        return 1                #0을 넘지 않으면 1을 출력\n",
    "\n",
    "def OR(x1, x2):\n",
    "    x = np.array([x1, x2])\n",
    "    w = np.array([0.5, 0.5])  # AND와는 가중치(w, b)만 다르다\n",
    "    b = -0.2                  # 편향을 -0.2로 설정\n",
    "    tmp = np.sum(w*x) + b     #뉴런에서 보내온 가중치 x 입력신호 + 편향\n",
    "    if tmp <= 0:\n",
    "        return 0              #0을 넘지 않으면 0을 출력\n",
    "    else:\n",
    "        return 1              #0을 넘지 않으면 1을 출력"
   ]
  },
  {
   "cell_type": "markdown",
   "id": "5cf0654d",
   "metadata": {},
   "source": [
    "# 2.4 퍼셉트론의 한계"
   ]
  },
  {
   "cell_type": "markdown",
   "id": "1ab79580",
   "metadata": {},
   "source": [
    "## 2.4.1 도전! XOR 게이트\n",
    "* XOR 게이트는 배타적 논리합이라는 논리 회로입니다.\n",
    "* x1과 x2 중 한쪽이 1일 때만 1을 출력합니다."
   ]
  },
  {
   "cell_type": "markdown",
   "id": "6d8db5e7",
   "metadata": {},
   "source": [
    "## 2.4.2 선형과 비선형\n",
    "* 곡선의 영역은 비선형 영역입니다.\n",
    "* 직선의 영역을 선형 영역이라고 합니다."
   ]
  },
  {
   "cell_type": "markdown",
   "id": "516e36a0",
   "metadata": {},
   "source": [
    "# 2.5 다층 퍼셉트론이 출동한다면\n",
    "* 다층 퍼셉트론을 통해, XOR 게이트를 표현할 수 ㅇ있습니다."
   ]
  },
  {
   "cell_type": "markdown",
   "id": "5979a21b",
   "metadata": {},
   "source": [
    "## 2.5.1 기존 게이트 조합하기"
   ]
  },
  {
   "cell_type": "markdown",
   "id": "1de3286e",
   "metadata": {},
   "source": [
    "## 2.5.2 XOR 게이트 구현하기"
   ]
  },
  {
   "cell_type": "code",
   "execution_count": 19,
   "id": "df76bd77",
   "metadata": {},
   "outputs": [],
   "source": [
    "def XOR(x1, x2):\n",
    "    s1 = NAND(x1, x2)\n",
    "    s2 = OR(x1, x2)\n",
    "    y = AND(s1, s2)\n",
    "    return y"
   ]
  },
  {
   "cell_type": "code",
   "execution_count": 22,
   "id": "4d822d28",
   "metadata": {},
   "outputs": [
    {
     "data": {
      "text/plain": [
       "0"
      ]
     },
     "execution_count": 22,
     "metadata": {},
     "output_type": "execute_result"
    }
   ],
   "source": [
    "XOR(0, 0)"
   ]
  },
  {
   "cell_type": "code",
   "execution_count": 23,
   "id": "c39ddd20",
   "metadata": {},
   "outputs": [
    {
     "data": {
      "text/plain": [
       "1"
      ]
     },
     "execution_count": 23,
     "metadata": {},
     "output_type": "execute_result"
    }
   ],
   "source": [
    "XOR(1, 0)"
   ]
  },
  {
   "cell_type": "code",
   "execution_count": 24,
   "id": "04978d2f",
   "metadata": {},
   "outputs": [
    {
     "data": {
      "text/plain": [
       "1"
      ]
     },
     "execution_count": 24,
     "metadata": {},
     "output_type": "execute_result"
    }
   ],
   "source": [
    "XOR(0, 1)"
   ]
  },
  {
   "cell_type": "code",
   "execution_count": 25,
   "id": "6a9eb1f7",
   "metadata": {},
   "outputs": [
    {
     "data": {
      "text/plain": [
       "0"
      ]
     },
     "execution_count": 25,
     "metadata": {},
     "output_type": "execute_result"
    }
   ],
   "source": [
    "XOR(1, 1)"
   ]
  },
  {
   "cell_type": "markdown",
   "id": "9ed8774d",
   "metadata": {},
   "source": [
    "# 2.6 NAND에서 컴퓨터까지"
   ]
  },
  {
   "cell_type": "markdown",
   "id": "d773358f",
   "metadata": {},
   "source": [
    "* 퍼셉트론은 층을 계속 쌓으면 비선형적인 표현과 컴퓨터가 수행하는 처리를 할 수도 있습니다. "
   ]
  },
  {
   "cell_type": "markdown",
   "id": "497f39ac",
   "metadata": {},
   "source": [
    "# 2.7 정리"
   ]
  },
  {
   "cell_type": "markdown",
   "id": "93df5a7d",
   "metadata": {},
   "source": [
    "## 이번 장에서 배운 내용"
   ]
  },
  {
   "cell_type": "markdown",
   "id": "cbdba522",
   "metadata": {},
   "source": [
    "* 퍼셉트론은 입출력을 갖춘 알고리즘입니다. 입력을 주면 정해진 규칙에 따른 값을 출력합니다.\n",
    "* 퍼셉트론에서는 '가중치'와 '편향'을 매개변수로 설정합니다.\n",
    "* 퍼셉트론으로 AND, OR 게이트 등의 논리 회로를 표현할 수 있습니다.\n",
    "* XOR 게이트는 단층 퍼셉트론으로는 표현할 수 없습니다.\n",
    "* 2층 퍼셉트론을 이용하면 XOR 게이트를 표현할 수 있습니다.\n",
    "* 단층 퍼셉트론은 직선형 영역만 표현할 수 있고, 다층 퍼셉트론은 비선형 영역도 표현할 수 있습니다.\n",
    "* 다층 퍼셉트론은 (이론상) 컴퓨터를 표현할 수 있습니다."
   ]
  }
 ],
 "metadata": {
  "kernelspec": {
   "display_name": "Python 3 (ipykernel)",
   "language": "python",
   "name": "python3"
  },
  "language_info": {
   "codemirror_mode": {
    "name": "ipython",
    "version": 3
   },
   "file_extension": ".py",
   "mimetype": "text/x-python",
   "name": "python",
   "nbconvert_exporter": "python",
   "pygments_lexer": "ipython3",
   "version": "3.9.13"
  }
 },
 "nbformat": 4,
 "nbformat_minor": 5
}
