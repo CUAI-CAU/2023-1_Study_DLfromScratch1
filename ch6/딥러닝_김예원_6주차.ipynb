{
 "cells": [
  {
   "cell_type": "markdown",
   "id": "c171d1db",
   "metadata": {},
   "source": [
    "# ch5. 오차역전파법"
   ]
  },
  {
   "cell_type": "markdown",
   "id": "87d416a9",
   "metadata": {},
   "source": [
    "## 5.1 계산 그래프"
   ]
  },
  {
   "cell_type": "markdown",
   "id": "4939cf9c",
   "metadata": {},
   "source": [
    "계산그래프는 계산 과정을 그래프로 나타낸 것\n",
    "계산그래프는 복수의 노드와 엣지로 표현된다.\n",
    "\n",
    "* 국소적 계산:\n",
    "\n",
    "계산 그래프의 특징은 국소적 계산을 전파함으로써 최종결과를 얻는다는 점에 있다.\n",
    "자신과 관계된 정보만으로 결과를 출력한다."
   ]
  },
  {
   "cell_type": "markdown",
   "id": "dd2b9b4a",
   "metadata": {},
   "source": [
    "## 5.2 연쇄법칙"
   ]
  },
  {
   "cell_type": "markdown",
   "id": "c33b216c",
   "metadata": {},
   "source": [
    "역전파는 '국소적 미분'을 순방향의 반대방향으로 전달한다.\n",
    "이 '국소적 미분'을 전달하는 원리가 <연쇄법칙>이다. \n",
    "\n",
    "### 연쇄법칙\n",
    "\n",
    "합성함수란 여러 함수로 구성된 함수를 말한다.\n",
    "\n",
    "연쇄법칙은 합성함수의 미분에 대한 성질이며,\n",
    "\n",
    "합성 함수의 미분은 합성함수를 구성하는 각 함수의 미분의 곱으로 나타낼 수 있다는 것이 연쇄법칙의 원리이다."
   ]
  },
  {
   "cell_type": "markdown",
   "id": "500ee173",
   "metadata": {},
   "source": [
    "## 5.3 역전파\n",
    "\n",
    "계산그래프의 역전파는 연쇄법칙에 따라 국소적 미분이 전달되는 것.\n",
    "\n",
    "- 덧셈 노드의 역전파는 상류의 값이 하류로 그대로 전달되고, \n",
    "- 곱셈 노드의 역전파는 순전파 때의 입력신호들을 서로 바꾼 값을 곱해서 하류로 전달된다."
   ]
  },
  {
   "cell_type": "markdown",
   "id": "9d4060db",
   "metadata": {},
   "source": [
    "## 5.4 단순한 계층 구현하기"
   ]
  },
  {
   "cell_type": "code",
   "execution_count": 3,
   "id": "9ff1ca73",
   "metadata": {},
   "outputs": [],
   "source": [
    "#곱셈계층\n",
    "class MulLayer:\n",
    "    def __init__(self):\n",
    "        self.x = None\n",
    "        self.y = None\n",
    "\n",
    "    def forward(self, x, y):\n",
    "        self.x = x\n",
    "        self.y = y\n",
    "        out = x * y\n",
    "        return out\n",
    "\n",
    "    def backward(self, dout):\n",
    "        dx = dout * self.y\n",
    "        dy = dout * self.x\n",
    "        return dx, dy\n",
    "\n",
    "#덧셈계층\n",
    "class AddLayer:\n",
    "    def __init__(self):\n",
    "        pass\n",
    "\n",
    "    def forward(self, x, y):\n",
    "        out = x + y\n",
    "        return out\n",
    "\n",
    "    def backward(self, dout):\n",
    "        dx = dout * 1\n",
    "        dy = dout * 1\n",
    "        return dx, dy"
   ]
  },
  {
   "cell_type": "markdown",
   "id": "3812fc03",
   "metadata": {},
   "source": [
    "## 5.5 활성화 함수 계층 구현하기"
   ]
  },
  {
   "cell_type": "markdown",
   "id": "dfab6d78",
   "metadata": {},
   "source": [
    "- Relu 계층"
   ]
  },
  {
   "cell_type": "code",
   "execution_count": 4,
   "id": "82da8365",
   "metadata": {},
   "outputs": [],
   "source": [
    "class Relu:\n",
    "    def __init__(self):\n",
    "        self.mask = None\n",
    "\n",
    "    def forward(self, x):\n",
    "        self.mask = (x <= 0)\n",
    "        out = x.copy()\n",
    "        out[self.mask] = 0\n",
    "\n",
    "        return out\n",
    "\n",
    "    def backward(self, dout):\n",
    "        dout[self.mask] = 0      #순전파 때의 입력이 0이하인 경우만 미분값 0(신호를 보내지 않음.)\n",
    "        dx = dout\n",
    "\n",
    "        return dx"
   ]
  },
  {
   "cell_type": "markdown",
   "id": "3cda87a7",
   "metadata": {},
   "source": [
    "- Sigmoid 계층\n",
    "\n",
    "시그모이드 계층의 역전파는 순전파의 출력만으로 계산할 수 있다."
   ]
  },
  {
   "cell_type": "code",
   "execution_count": 6,
   "id": "90b72846",
   "metadata": {},
   "outputs": [],
   "source": [
    "class Sigmoid:\n",
    "    def __init__(self):\n",
    "        self.out = None\n",
    "\n",
    "    def forward(self, x):\n",
    "        out = 1 / (1 + np.exp(-x))\n",
    "        self.out = out\n",
    "\n",
    "        return out\n",
    "\n",
    "    def backward(self, dout):\n",
    "        dx = dout * (1.0 - self.out) * self.out\n",
    "\n",
    "        return dx"
   ]
  },
  {
   "cell_type": "markdown",
   "id": "c00a9c7f",
   "metadata": {},
   "source": [
    "## 5.6 Affine/Softmax 계층 구현하기"
   ]
  },
  {
   "cell_type": "markdown",
   "id": "60653f20",
   "metadata": {},
   "source": [
    "- Affine 계층\n",
    "\n",
    "신경망의 순전파 때 수행하는 행렬의 곱을 기하학에서는 '어파인 변환'이라고 한다.\n",
    "어파인 변환을 수행하는 처리를 'Affine 계층'이라고 함."
   ]
  },
  {
   "cell_type": "code",
   "execution_count": 7,
   "id": "e09059fc",
   "metadata": {},
   "outputs": [],
   "source": [
    "class Affine:\n",
    "    def __init__(self, W, b):\n",
    "        self.W = W\n",
    "        self.b = b\n",
    "        self.x = None\n",
    "        self.dW = None\n",
    "        self.db = None\n",
    "\n",
    "    def forward(self, x):\n",
    "        self.x = x\n",
    "        out = np.dot(x, self.W) + self.b\n",
    "\n",
    "        return out\n",
    "\n",
    "    def backward(self, dout):\n",
    "        dx = np.dot(dout, self.W.T)\n",
    "        self.dW = np.dot(self.x.T, dout)\n",
    "        self.db = np.sum(dout, axis=0)\n",
    "\n",
    "        return dx"
   ]
  },
  {
   "cell_type": "markdown",
   "id": "33bd0575",
   "metadata": {},
   "source": [
    "- Softmax-with-loss 계층\n",
    "\n",
    "신경망에서 수행하는 작업은 학습/ 추론.\n",
    "\n",
    "추론할 때는 softmax 계층을 사용하지 않는다.\n",
    "\n",
    "Softmax 앞의 Affine 계층의 출력을 점수(score)라고 한다."
   ]
  },
  {
   "cell_type": "code",
   "execution_count": 9,
   "id": "bc71971a",
   "metadata": {},
   "outputs": [],
   "source": [
    "def softmax(a):\n",
    "    c = np.max(a)\n",
    "    exp_a = np.exp(a - c)  # 오버플로 대책\n",
    "    sum_exp_a = np.sum(exp_a)\n",
    "    y = exp_a / sum_exp_a\n",
    "\n",
    "    return y\n",
    "\n",
    "\n",
    "def cross_entropy_error(y, t):\n",
    "    delta = 1e-7  # 0일때 -무한대가 되지 않기 위해 작은 값을 더함\n",
    "    return -np.sum(t * np.log(y + delta))\n",
    "\n",
    "\n",
    "class SoftmaxWithLoss:\n",
    "    def __init__(self):\n",
    "        self.loss = None  # 손실\n",
    "        self.y = None     # softmax의 출력\n",
    "        self.t = None     # 정답 레이블(원-핫 벡터)\n",
    "\n",
    "    def forward(self, x, t):\n",
    "        self.t = t\n",
    "        self.y = softmax(x)  # 3.5.2, 4.2.2에서 구현\n",
    "        self.loss = cross_entropy_error(self.y, self.t)\n",
    "\n",
    "        return self.loss\n",
    "\n",
    "    def backward(self, dout=1):\n",
    "        batch_size = self.t.shape[0]\n",
    "        dx = self.y - self.t / batch_size\n",
    "\n",
    "        return dx"
   ]
  },
  {
   "cell_type": "markdown",
   "id": "ee600654",
   "metadata": {},
   "source": [
    "## 5.7 오차역전파법 구현하기"
   ]
  },
  {
   "cell_type": "markdown",
   "id": "d513951e",
   "metadata": {},
   "source": [
    "신경망 학습의 순서\n",
    "\n",
    "1. 미니 배치 (train 데이터 중 일부를 가져옴, 미니배치(선별한 데이터셋)의 손실함수값을 줄이는 것이 목표)\n",
    "\n",
    "\n",
    "2. 기울기 산출 (미니배치의 손실함수 값을 줄이기 위해 각 가중치 매개변수의 기울기르 구한다. 기울기는 손실함수의 값을 가장 작게 하는 방향을 제시)\n",
    "\n",
    "\n",
    "3. 매개변수 갱신(가중치 매개변수를 기울기 방향으로 아주 조금씩 갱신함)\n",
    "\n",
    "\n",
    "4. 1~3 단계를 반복한다.\n",
    "\n",
    "-> 오차역전파법을 이용하면, 계산시간이 오래걸리는 수치미분과 달리 기울기를 효율적이고 빠르게 구할 수 있다."
   ]
  },
  {
   "cell_type": "code",
   "execution_count": 15,
   "id": "18a02548",
   "metadata": {},
   "outputs": [],
   "source": [
    "import sys\n",
    "import os\n",
    "import numpy as np\n",
    "from collections import OrderedDict\n",
    "sys.path.append(os.pardir)\n",
    "from common.layers import *\n",
    "from common.gradient import numerical_gradient\n",
    "from dataset.mnist import load_mnist"
   ]
  },
  {
   "cell_type": "code",
   "execution_count": 16,
   "id": "d0c6a9e9",
   "metadata": {},
   "outputs": [],
   "source": [
    "class TwoLayerNet:\n",
    "    def __init__(self, input_size, hidden_size, output_size,\n",
    "        weight_init_std=0.01):\n",
    "        # 가중치 초기화\n",
    "        self.params = {}\n",
    "        self.params['W1'] = weight_init_std * \\\n",
    "            np.random.randn(input_size, hidden_size)\n",
    "        self.params['b1'] = np.zeros(hidden_size)\n",
    "        self.params['W2'] = weight_init_std * \\\n",
    "            np.random.randn(hidden_size, output_size)\n",
    "        self.params['b2'] = np.zeros(output_size)\n",
    "\n",
    "        # 계층 생성\n",
    "        self.layers = OrderedDict()\n",
    "        self.layers['Affine1'] = \\\n",
    "            Affine(self.params['W1'], self.params['b1'])\n",
    "        self.layers['Relu1'] = Relu()\n",
    "        self.layers['Affine2'] = \\\n",
    "            Affine(self.params['W2'], self.params['b2'])\n",
    "        self.lastLayer = SoftmaxWithLoss()\n",
    "\n",
    "    def predict(self, x):\n",
    "        for layer in self.layers.values():\n",
    "            x = layer.forward(x)\n",
    "\n",
    "        return x\n",
    "\n",
    "    # x : 입력 데이터, t : 정답 레이블\n",
    "    def loss(self, x, t):\n",
    "        y = self.predict(x)\n",
    "        return self.lastLayer.forward(y, t)\n",
    "\n",
    "    def accuracy(self, x, t):\n",
    "        y = self.predict(x)\n",
    "        y = np.argmax(y, axis=1)\n",
    "        if t.ndim != 1:\n",
    "            t = np.argmax(t, axis=1)\n",
    "\n",
    "        accuracy = np.sum(y == t) / float(x.shape[0])\n",
    "        return accuracy\n",
    "\n",
    "    def numerical_gradient(self, x, t):\n",
    "        loss_W = lambda W: self.loss(x, t)\n",
    "\n",
    "        grads = {}\n",
    "        grads['W1'] = numerical_gradient(loss_W, self.params['W1'])\n",
    "        grads['b1'] = numerical_gradient(loss_W, self.params['b1'])\n",
    "        grads['W2'] = numerical_gradient(loss_W, self.params['W2'])\n",
    "        grads['b2'] = numerical_gradient(loss_W, self.params['b2'])\n",
    "\n",
    "        return grads\n",
    "\n",
    "    def gradient(self, x, t):\n",
    "        # 순전파\n",
    "        self.loss(x, t)\n",
    "\n",
    "        # 역전파\n",
    "        dout = 1\n",
    "        dout = self.lastLayer.backward(dout)\n",
    "\n",
    "        layers = list(self.layers.values())\n",
    "        layers.reverse()\n",
    "        for layer in layers:\n",
    "            dout = layer.backward(dout)\n",
    "\n",
    "        # 결과 저장\n",
    "        grads = {}\n",
    "        grads['W1'] = self.layers['Affine1'].dW\n",
    "        grads['b1'] = self.layers['Affine1'].db\n",
    "        grads['W2'] = self.layers['Affine2'].dW\n",
    "        grads['b2'] = self.layers['Affine2'].db\n",
    "\n",
    "        return grads"
   ]
  },
  {
   "cell_type": "markdown",
   "id": "3a4a79f5",
   "metadata": {},
   "source": [
    "- 오차역전파법을 통한 기울기 검증\n",
    "\n",
    "수치미분의 결과와 오차역전파법의 결과를 비교해서 오차역전파법을 제대로 구현했는지 검증한다. -> 기울기 확인 작업"
   ]
  },
  {
   "cell_type": "code",
   "execution_count": 17,
   "id": "f30551f0",
   "metadata": {},
   "outputs": [
    {
     "name": "stdout",
     "output_type": "stream",
     "text": [
      "W1:2.2193749612418504e-13\n",
      "b1:6.687288309908945e-13\n",
      "W2:8.339658866845959e-13\n",
      "b2:1.2034817170603062e-10\n"
     ]
    }
   ],
   "source": [
    "(x_train, t_train), (x_test, t_test) = \\\n",
    "        load_mnist(normalize=True, one_hot_label=True)\n",
    "\n",
    "network = TwoLayerNet(input_size=784, hidden_size=50, output_size=10)\n",
    "\n",
    "x_batch = x_train[:3]\n",
    "t_batch = t_train[:3]\n",
    "\n",
    "grad_numerical = network.numerical_gradient(x_batch, t_batch)\n",
    "grad_backprop = network.gradient(x_batch, t_batch)\n",
    "\n",
    "# 각 가중치의 차이의 절댓값을 구한 후, 그 절댓값들의 평균을 낸다.\n",
    "for key in grad_numerical.keys():\n",
    "    diff = np.average(np.abs(grad_backprop[key] - grad_numerical[key]))\n",
    "    print(key + \":\" + str(diff))"
   ]
  },
  {
   "cell_type": "markdown",
   "id": "2066987a",
   "metadata": {},
   "source": [
    "### 5.7.4 오차역전파법을 사용한 학습 구현하기"
   ]
  },
  {
   "cell_type": "code",
   "execution_count": 19,
   "id": "95a67321",
   "metadata": {},
   "outputs": [
    {
     "name": "stdout",
     "output_type": "stream",
     "text": [
      "train acc, test acc | 0.1222, 0.1129\n",
      "train acc, test acc | 0.9009666666666667, 0.9069\n",
      "train acc, test acc | 0.9224, 0.9241\n",
      "train acc, test acc | 0.9322, 0.9342\n",
      "train acc, test acc | 0.9421, 0.9389\n",
      "train acc, test acc | 0.94895, 0.9451\n",
      "train acc, test acc | 0.9558666666666666, 0.9515\n",
      "train acc, test acc | 0.9612833333333334, 0.955\n",
      "train acc, test acc | 0.9648, 0.9577\n",
      "train acc, test acc | 0.9675833333333334, 0.9605\n",
      "train acc, test acc | 0.9700666666666666, 0.9634\n",
      "train acc, test acc | 0.9716, 0.9634\n",
      "train acc, test acc | 0.9726833333333333, 0.9646\n",
      "train acc, test acc | 0.9749333333333333, 0.9655\n",
      "train acc, test acc | 0.9772666666666666, 0.9674\n",
      "train acc, test acc | 0.97805, 0.9692\n",
      "train acc, test acc | 0.9796166666666667, 0.9702\n"
     ]
    }
   ],
   "source": [
    "import sys\n",
    "import os\n",
    "import numpy as np\n",
    "sys.path.append(os.pardir)\n",
    "from dataset.mnist import load_mnist\n",
    "from two_layer_net import TwoLayerNet\n",
    "\n",
    "# 데이터 읽기\n",
    "(x_train, t_train), (x_test, t_test) = \\\n",
    "    load_mnist(normalize=True, one_hot_label=True)\n",
    "network = TwoLayerNet(input_size=784, hidden_size=50, output_size=10)\n",
    "\n",
    "# 하이퍼 파라메터\n",
    "iters_num = 10000  # 반복횟수\n",
    "train_size = x_train.shape[0]\n",
    "batch_size = 100  # 미니배치 크기\n",
    "learning_rate = 0.1\n",
    "\n",
    "train_loss_list = []\n",
    "train_acc_list = []\n",
    "test_acc_list = []\n",
    "\n",
    "# 1에폭당 반복 수\n",
    "iter_per_epoch = max(train_size / batch_size, 1)\n",
    "\n",
    "for i in range(iters_num):\n",
    "    # print(i)\n",
    "    # 미니배치 획득\n",
    "    batch_mask = np.random.choice(train_size, batch_size)\n",
    "    x_batch = x_train[batch_mask]\n",
    "    t_batch = t_train[batch_mask]\n",
    "\n",
    "    # 오차역전파법으로 기울기 계산\n",
    "    grad = network.gradient(x_batch, t_batch)\n",
    "\n",
    "    # 매개변수 갱신\n",
    "    for key in ('W1', 'b1', 'W2', 'b2'):\n",
    "        network.params[key] -= learning_rate * grad[key]\n",
    "\n",
    "    # 학습 경과 기록\n",
    "    loss = network.loss(x_batch, t_batch)\n",
    "    train_loss_list.append(loss)\n",
    "\n",
    "    # 1에폭 당 정확도 계산\n",
    "    if i % iter_per_epoch == 0:\n",
    "        train_acc = network.accuracy(x_train, t_train)\n",
    "        test_acc = network.accuracy(x_test, t_test)\n",
    "        train_acc_list.append(train_acc)\n",
    "        test_acc_list.append(test_acc)\n",
    "        print(\"train acc, test acc | \" + str(train_acc) + \", \" + str(test_acc))"
   ]
  },
  {
   "cell_type": "code",
   "execution_count": null,
   "id": "c7f0a784",
   "metadata": {},
   "outputs": [],
   "source": []
  }
 ],
 "metadata": {
  "kernelspec": {
   "display_name": "Python 3 (ipykernel)",
   "language": "python",
   "name": "python3"
  },
  "language_info": {
   "codemirror_mode": {
    "name": "ipython",
    "version": 3
   },
   "file_extension": ".py",
   "mimetype": "text/x-python",
   "name": "python",
   "nbconvert_exporter": "python",
   "pygments_lexer": "ipython3",
   "version": "3.9.16"
  }
 },
 "nbformat": 4,
 "nbformat_minor": 5
}
