{
 "cells": [
  {
   "cell_type": "markdown",
   "id": "f4f80153",
   "metadata": {},
   "source": [
    "# 1.3 파이썬 인터프리터"
   ]
  },
  {
   "cell_type": "markdown",
   "id": "15970f28",
   "metadata": {},
   "source": [
    "## 1.3.1 산술 연산"
   ]
  },
  {
   "cell_type": "code",
   "execution_count": 12,
   "id": "b6d931c8",
   "metadata": {},
   "outputs": [
    {
     "data": {
      "text/plain": [
       "-1"
      ]
     },
     "execution_count": 12,
     "metadata": {},
     "output_type": "execute_result"
    }
   ],
   "source": [
    "#뺄셈은 \"-\"로 나타냅니다.\n",
    "1 - 2"
   ]
  },
  {
   "cell_type": "code",
   "execution_count": 13,
   "id": "72c50674",
   "metadata": {},
   "outputs": [
    {
     "data": {
      "text/plain": [
       "20"
      ]
     },
     "execution_count": 13,
     "metadata": {},
     "output_type": "execute_result"
    }
   ],
   "source": [
    "#곱셈은 \"*\"로 나타냅니다.\n",
    "4 * 5"
   ]
  },
  {
   "cell_type": "code",
   "execution_count": 14,
   "id": "57e150fd",
   "metadata": {},
   "outputs": [
    {
     "data": {
      "text/plain": [
       "1.4"
      ]
     },
     "execution_count": 14,
     "metadata": {},
     "output_type": "execute_result"
    }
   ],
   "source": [
    "#나누기는 \"/\"로 나타냅니다.\n",
    "7 / 5"
   ]
  },
  {
   "cell_type": "code",
   "execution_count": 15,
   "id": "06ec1484",
   "metadata": {},
   "outputs": [
    {
     "data": {
      "text/plain": [
       "9"
      ]
     },
     "execution_count": 15,
     "metadata": {},
     "output_type": "execute_result"
    }
   ],
   "source": [
    "#제곱은 \"**\"로 나타냅니다.\n",
    "3 ** 2"
   ]
  },
  {
   "cell_type": "markdown",
   "id": "1c6e2f05",
   "metadata": {},
   "source": [
    "## 1.3.2 자료형"
   ]
  },
  {
   "cell_type": "markdown",
   "id": "cfbb532e",
   "metadata": {},
   "source": [
    "* 자료형 - 데이터의 성질을 나태내는 것으로, 정수, 소수, 문자열과 같은 형태가 있습니다."
   ]
  },
  {
   "cell_type": "code",
   "execution_count": 21,
   "id": "55b58fe9",
   "metadata": {},
   "outputs": [
    {
     "name": "stdout",
     "output_type": "stream",
     "text": [
      "<class 'int'>\n",
      "<class 'float'>\n",
      "<class 'str'>\n"
     ]
    }
   ],
   "source": [
    "#type() 함수로 데이터의 자료형을 알 수 있습니다.\n",
    "print(type(10))\n",
    "print(type(2.718))\n",
    "print(type(\"hello\"))"
   ]
  },
  {
   "cell_type": "markdown",
   "id": "59fd8b9d",
   "metadata": {},
   "source": [
    "## 1.3.3 변수"
   ]
  },
  {
   "cell_type": "markdown",
   "id": "fca222d0",
   "metadata": {},
   "source": [
    "* 변수 - x와 y 등의 알파벳을 사용하여 계산하거나, 다른 값에 대입 할 수 있습니다."
   ]
  },
  {
   "cell_type": "code",
   "execution_count": 22,
   "id": "0587b100",
   "metadata": {},
   "outputs": [
    {
     "name": "stdout",
     "output_type": "stream",
     "text": [
      "10\n"
     ]
    }
   ],
   "source": [
    "x = 10\n",
    "print(x)"
   ]
  },
  {
   "cell_type": "code",
   "execution_count": 23,
   "id": "b0875066",
   "metadata": {},
   "outputs": [
    {
     "name": "stdout",
     "output_type": "stream",
     "text": [
      "100\n"
     ]
    }
   ],
   "source": [
    "x = 100\n",
    "print(x)"
   ]
  },
  {
   "cell_type": "code",
   "execution_count": 25,
   "id": "85eb3665",
   "metadata": {},
   "outputs": [
    {
     "data": {
      "text/plain": [
       "314.0"
      ]
     },
     "execution_count": 25,
     "metadata": {},
     "output_type": "execute_result"
    }
   ],
   "source": [
    "y = 3.14\n",
    "x * y"
   ]
  },
  {
   "cell_type": "code",
   "execution_count": 28,
   "id": "cab46bc0",
   "metadata": {},
   "outputs": [
    {
     "name": "stdout",
     "output_type": "stream",
     "text": [
      "<class 'float'>\n"
     ]
    }
   ],
   "source": [
    "print(type(x * y))"
   ]
  },
  {
   "cell_type": "markdown",
   "id": "a7db92a6",
   "metadata": {},
   "source": [
    "## 1.3.4 리스트"
   ]
  },
  {
   "cell_type": "code",
   "execution_count": 29,
   "id": "4118dc40",
   "metadata": {},
   "outputs": [
    {
     "name": "stdout",
     "output_type": "stream",
     "text": [
      "[1, 2, 3, 4, 5]\n"
     ]
    }
   ],
   "source": [
    "a = [1, 2, 3, 4, 5]\n",
    "print(a)"
   ]
  },
  {
   "cell_type": "code",
   "execution_count": 42,
   "id": "7ba10530",
   "metadata": {},
   "outputs": [
    {
     "data": {
      "text/plain": [
       "5"
      ]
     },
     "execution_count": 42,
     "metadata": {},
     "output_type": "execute_result"
    }
   ],
   "source": [
    "#리스트의 길이를 나타낼 수 있습니다.\n",
    "len(a) "
   ]
  },
  {
   "cell_type": "code",
   "execution_count": 43,
   "id": "704e7727",
   "metadata": {},
   "outputs": [
    {
     "data": {
      "text/plain": [
       "1"
      ]
     },
     "execution_count": 43,
     "metadata": {},
     "output_type": "execute_result"
    }
   ],
   "source": [
    "#리스트의 0을 대입하여 리스트의 1번째 자리 숫자를 나타낼 수 있습니다.\n",
    "a[0]"
   ]
  },
  {
   "cell_type": "code",
   "execution_count": 32,
   "id": "c57513f4",
   "metadata": {},
   "outputs": [
    {
     "data": {
      "text/plain": [
       "5"
      ]
     },
     "execution_count": 32,
     "metadata": {},
     "output_type": "execute_result"
    }
   ],
   "source": [
    "#리스트의 4을 대입하여 리스트의 5번째 자리 숫자를 나타낼 수 있습니다.\n",
    "a[4]"
   ]
  },
  {
   "cell_type": "code",
   "execution_count": 44,
   "id": "7571be0a",
   "metadata": {},
   "outputs": [
    {
     "name": "stdout",
     "output_type": "stream",
     "text": [
      "[1, 2, 3, 4, 99]\n"
     ]
    }
   ],
   "source": [
    "#리스트에 4을 대입하여, 리스트의 5번째 자리 숫자를 수정할 수 있습니다. \n",
    "a[4] = 99\n",
    "print(a)"
   ]
  },
  {
   "cell_type": "markdown",
   "id": "447e1fb8",
   "metadata": {},
   "source": [
    "* 슬라이싱 - 이 기법을 이용하여 리스트 안의 특성 원소 하나뿐 아니라 부분 리스트에도 접근이 가능합니다."
   ]
  },
  {
   "cell_type": "code",
   "execution_count": 36,
   "id": "b911b2af",
   "metadata": {},
   "outputs": [
    {
     "name": "stdout",
     "output_type": "stream",
     "text": [
      "[1, 2, 3, 4, 99]\n"
     ]
    }
   ],
   "source": [
    "print(a)"
   ]
  },
  {
   "cell_type": "code",
   "execution_count": 37,
   "id": "bb2807fb",
   "metadata": {},
   "outputs": [
    {
     "data": {
      "text/plain": [
       "[1, 2]"
      ]
     },
     "execution_count": 37,
     "metadata": {},
     "output_type": "execute_result"
    }
   ],
   "source": [
    "#[시작:끝] 범위로 지정하여, 1번째 자리 숫자부터 3번째 자리 숫자 미만까지 나타낼 수 있습니다. \n",
    "a[0:2]"
   ]
  },
  {
   "cell_type": "code",
   "execution_count": 38,
   "id": "cfcd479e",
   "metadata": {},
   "outputs": [
    {
     "data": {
      "text/plain": [
       "[2, 3, 4, 99]"
      ]
     },
     "execution_count": 38,
     "metadata": {},
     "output_type": "execute_result"
    }
   ],
   "source": [
    "#[시작:] 범위로 지정하여, 1번쨰 자리 숫자부터 끝 자리 숫자까지 나타낼 수 있습니다. \n",
    "a[1:]"
   ]
  },
  {
   "cell_type": "code",
   "execution_count": 39,
   "id": "66956be7",
   "metadata": {},
   "outputs": [
    {
     "data": {
      "text/plain": [
       "[1, 2, 3]"
      ]
     },
     "execution_count": 39,
     "metadata": {},
     "output_type": "execute_result"
    }
   ],
   "source": [
    "#[:끝] 범위로 지정하여, 3번째 자리 숫자까지 나타낼 수 있습니다. \n",
    "a[:3]"
   ]
  },
  {
   "cell_type": "code",
   "execution_count": 40,
   "id": "5cb62ba6",
   "metadata": {},
   "outputs": [
    {
     "data": {
      "text/plain": [
       "[1, 2, 3, 4]"
      ]
     },
     "execution_count": 40,
     "metadata": {},
     "output_type": "execute_result"
    }
   ],
   "source": [
    "#[:음수] 범위로 지정하여, 끝에서 (리스트 크기 -1)번째 자리 숫자까지 나타낼 수 있습니다. \n",
    "a[:-1]"
   ]
  },
  {
   "cell_type": "code",
   "execution_count": 41,
   "id": "712b3231",
   "metadata": {},
   "outputs": [
    {
     "data": {
      "text/plain": [
       "[1, 2, 3]"
      ]
     },
     "execution_count": 41,
     "metadata": {},
     "output_type": "execute_result"
    }
   ],
   "source": [
    "#[:음수] 범위로 지정하여, 끝에서 (리스트 크기 -2)번째 자리 숫자까지 나타낼 수 있습니다. \n",
    "a[:-2]"
   ]
  },
  {
   "cell_type": "markdown",
   "id": "bbb44716",
   "metadata": {},
   "source": [
    "## 1.3.5 딕셔너리"
   ]
  },
  {
   "cell_type": "markdown",
   "id": "a86eba3b",
   "metadata": {},
   "source": [
    "* 딕셔너리는 키와 값을 한 쌍으로 저장합니다."
   ]
  },
  {
   "cell_type": "code",
   "execution_count": 47,
   "id": "f051aa15",
   "metadata": {},
   "outputs": [
    {
     "data": {
      "text/plain": [
       "180"
      ]
     },
     "execution_count": 47,
     "metadata": {},
     "output_type": "execute_result"
    }
   ],
   "source": [
    "#딕셔너리로 키(height)와 값(180)으로 저정할 수 있습니다. \n",
    "me = {'height':180}\n",
    "me['height']"
   ]
  },
  {
   "cell_type": "code",
   "execution_count": 48,
   "id": "2c468972",
   "metadata": {},
   "outputs": [
    {
     "name": "stdout",
     "output_type": "stream",
     "text": [
      "{'height': 180, 'weight': 70}\n"
     ]
    }
   ],
   "source": [
    "#딕셔너리로 키(weight)와 값(70)으로 저정할 수 있습니다. \n",
    "me['weight'] = 70\n",
    "print(me)"
   ]
  },
  {
   "cell_type": "markdown",
   "id": "ea93cace",
   "metadata": {},
   "source": [
    "## 1.3.6 bool"
   ]
  },
  {
   "cell_type": "markdown",
   "id": "d748e58e",
   "metadata": {},
   "source": [
    "* bool은 자료형이며, True와 False라는 두 값으로 나옵니다. 또한, and, or, not이라는 연산자를 사용 할 수 있습니다."
   ]
  },
  {
   "cell_type": "code",
   "execution_count": 49,
   "id": "4e7964e0",
   "metadata": {},
   "outputs": [
    {
     "data": {
      "text/plain": [
       "bool"
      ]
     },
     "execution_count": 49,
     "metadata": {},
     "output_type": "execute_result"
    }
   ],
   "source": [
    "hungry = True\n",
    "sleepy = False\n",
    "type(hungry)"
   ]
  },
  {
   "cell_type": "code",
   "execution_count": 50,
   "id": "ed26bce3",
   "metadata": {},
   "outputs": [
    {
     "data": {
      "text/plain": [
       "False"
      ]
     },
     "execution_count": 50,
     "metadata": {},
     "output_type": "execute_result"
    }
   ],
   "source": [
    "#not이 붙으면, True에서 False, False에서 True로 변형됩니다.\n",
    "not hungry"
   ]
  },
  {
   "cell_type": "code",
   "execution_count": 54,
   "id": "92cb47fa",
   "metadata": {},
   "outputs": [
    {
     "data": {
      "text/plain": [
       "False"
      ]
     },
     "execution_count": 54,
     "metadata": {},
     "output_type": "execute_result"
    }
   ],
   "source": [
    "#and가 있으면, (True,True)면 True, (True,False) 또는 (False,True)면 False, (False,False)면 False입니다. \n",
    "hungry and sleepy"
   ]
  },
  {
   "cell_type": "code",
   "execution_count": 52,
   "id": "f0e66457",
   "metadata": {},
   "outputs": [
    {
     "data": {
      "text/plain": [
       "True"
      ]
     },
     "execution_count": 52,
     "metadata": {},
     "output_type": "execute_result"
    }
   ],
   "source": [
    "#or이 있으면, True가 1개 이상이라도 있으면, 항상 True이고, True가 1개라도 없으면, False가 됩니다. \n",
    "hungry or sleepy"
   ]
  },
  {
   "cell_type": "markdown",
   "id": "ef4612fd",
   "metadata": {},
   "source": [
    "## 1.3.7 if 문"
   ]
  },
  {
   "cell_type": "code",
   "execution_count": 57,
   "id": "7d575c7e",
   "metadata": {},
   "outputs": [
    {
     "name": "stdout",
     "output_type": "stream",
     "text": [
      "I'm hungry\n"
     ]
    }
   ],
   "source": [
    "#만약 hungry가 True라면, if 문 안에 있는 문장을 출력합니다. \n",
    "hungry = True\n",
    "if hungry:\n",
    "    print(\"I'm hungry\")"
   ]
  },
  {
   "cell_type": "code",
   "execution_count": 58,
   "id": "b54e0f94",
   "metadata": {},
   "outputs": [
    {
     "name": "stdout",
     "output_type": "stream",
     "text": [
      "I'm not hungry\n",
      "I'm sleepy\n"
     ]
    }
   ],
   "source": [
    "#만약 hungry가 False라면, else문 안에 있는 문장들을 출력합니다. \n",
    "hungry = False\n",
    "if hungry:\n",
    "    print(\"I'm hungry\")\n",
    "else:\n",
    "    print(\"I'm not hungry\")\n",
    "    print(\"I'm sleepy\")"
   ]
  }
 ],
 "metadata": {
  "kernelspec": {
   "display_name": "Python 3 (ipykernel)",
   "language": "python",
   "name": "python3"
  },
  "language_info": {
   "codemirror_mode": {
    "name": "ipython",
    "version": 3
   },
   "file_extension": ".py",
   "mimetype": "text/x-python",
   "name": "python",
   "nbconvert_exporter": "python",
   "pygments_lexer": "ipython3",
   "version": "3.9.13"
  }
 },
 "nbformat": 4,
 "nbformat_minor": 5
}
