{
 "cells": [
  {
   "cell_type": "markdown",
   "id": "5c889f65",
   "metadata": {},
   "source": [
    "# 1.3 파이썬 인터프리터"
   ]
  },
  {
   "cell_type": "markdown",
   "id": "f194aee3",
   "metadata": {},
   "source": [
    "C:\\Users\\kyw97>python --version\n",
    "\n",
    "Python 3.10.10"
   ]
  },
  {
   "cell_type": "markdown",
   "id": "4b1c0d9d",
   "metadata": {},
   "source": [
    "파이썬 인터프리터는 '대화모드'라고 하여, 개발자가 파이썬과 대화하듯 프로그래밍할 수 있다."
   ]
  },
  {
   "cell_type": "markdown",
   "id": "0bfba1b3",
   "metadata": {},
   "source": [
    "## 1.3.1 산술연산"
   ]
  },
  {
   "cell_type": "markdown",
   "id": "7abd3c2c",
   "metadata": {},
   "source": [
    "## 1.3.2 자료형"
   ]
  },
  {
   "cell_type": "markdown",
   "id": "4e0ba140",
   "metadata": {},
   "source": [
    "프로그래밍 언어에는 자료형(data type)이 있는데, 자료형이란 데이터의 성질을 나타낸다.\n",
    "\n",
    "정수, 실수, 문자열과 같은 형태가 있으며 파이썬에서는 type()메서드로 데이터의 자료형을 확인할 수 있다."
   ]
  },
  {
   "cell_type": "code",
   "execution_count": 1,
   "id": "b4a0210c",
   "metadata": {},
   "outputs": [
    {
     "name": "stdout",
     "output_type": "stream",
     "text": [
      "<class 'int'>\n",
      "<class 'float'>\n",
      "<class 'str'>\n"
     ]
    }
   ],
   "source": [
    "print(type(10))\n",
    "print(type(2.718))\n",
    "print(type(\"hello\"))"
   ]
  },
  {
   "cell_type": "markdown",
   "id": "e755a889",
   "metadata": {},
   "source": [
    "## 1.3.3 변수"
   ]
  },
  {
   "cell_type": "code",
   "execution_count": 2,
   "id": "1bcd9c6b",
   "metadata": {},
   "outputs": [
    {
     "name": "stdout",
     "output_type": "stream",
     "text": [
      "10\n",
      "100\n",
      "314.0\n",
      "<class 'float'>\n"
     ]
    }
   ],
   "source": [
    "x = 10\n",
    "print(x)\n",
    "\n",
    "x= 100\n",
    "print(x)\n",
    "\n",
    "y = 3.14\n",
    "print(x*y)\n",
    "\n",
    "print(type(x*y))"
   ]
  },
  {
   "cell_type": "markdown",
   "id": "03b26027",
   "metadata": {},
   "source": [
    "파이썬은 자동으로 자료형이 할당되는 동적 프로그래밍 언어이다. "
   ]
  },
  {
   "cell_type": "markdown",
   "id": "8a6937b1",
   "metadata": {},
   "source": [
    "## 1.3.4 리스트"
   ]
  },
  {
   "cell_type": "code",
   "execution_count": 3,
   "id": "472777e9",
   "metadata": {},
   "outputs": [
    {
     "name": "stdout",
     "output_type": "stream",
     "text": [
      "[1, 2, 3, 4, 5]\n",
      "5\n",
      "1\n",
      "5\n",
      "[1, 2, 3, 4, 99]\n"
     ]
    }
   ],
   "source": [
    "a = [1,2,3,4,5]\n",
    "print(a)\n",
    "\n",
    "print(len(a))\n",
    "\n",
    "print(a[0])\n",
    "print(a[4])\n",
    "a[4] = 99\n",
    "print(a)"
   ]
  },
  {
   "cell_type": "markdown",
   "id": "0223c8b8",
   "metadata": {},
   "source": [
    "슬라이싱을 이용하면 범위를 지정해 원하는 부분 리스트를 얻을 수 있다."
   ]
  },
  {
   "cell_type": "code",
   "execution_count": 4,
   "id": "ebabcef9",
   "metadata": {},
   "outputs": [
    {
     "name": "stdout",
     "output_type": "stream",
     "text": [
      "[1, 2, 3, 4, 99]\n",
      "[1, 2]\n",
      "[2, 3, 4, 99]\n",
      "[1, 2, 3]\n",
      "[1, 2, 3, 4]\n",
      "[1, 2, 3]\n"
     ]
    }
   ],
   "source": [
    "print(a)\n",
    "print(a[0:2])\n",
    "print(a[1:])\n",
    "print(a[:3])\n",
    "print(a[:-1])\n",
    "print(a[:-2])"
   ]
  },
  {
   "cell_type": "markdown",
   "id": "8393855d",
   "metadata": {},
   "source": [
    "# 1.3.5 딕셔너리"
   ]
  },
  {
   "cell_type": "markdown",
   "id": "6aaaebaa",
   "metadata": {},
   "source": [
    "딕셔너리는 key와 value를 한 쌍으로 데이터를 저장한다."
   ]
  },
  {
   "cell_type": "code",
   "execution_count": 5,
   "id": "dd674c49",
   "metadata": {},
   "outputs": [
    {
     "name": "stdout",
     "output_type": "stream",
     "text": [
      "180\n",
      "{'height': 180, 'weight': 70}\n"
     ]
    }
   ],
   "source": [
    "me = {'height':180}\n",
    "\n",
    "print(me['height'])\n",
    "\n",
    "me['weight'] = 70 #딕셔너리에 새 원소 추가\n",
    "print(me)"
   ]
  },
  {
   "cell_type": "markdown",
   "id": "a14daf0f",
   "metadata": {},
   "source": [
    "## 1.3.6 bool"
   ]
  },
  {
   "cell_type": "code",
   "execution_count": 6,
   "id": "f2415b17",
   "metadata": {},
   "outputs": [
    {
     "name": "stdout",
     "output_type": "stream",
     "text": [
      "<class 'bool'>\n",
      "False\n",
      "False\n",
      "True\n"
     ]
    }
   ],
   "source": [
    "hungry = True\n",
    "sleepy = False\n",
    "\n",
    "print(type(hungry))\n",
    "\n",
    "print(not hungry)\n",
    "print(hungry and sleepy)\n",
    "print(hungry or sleepy)"
   ]
  },
  {
   "cell_type": "markdown",
   "id": "cf3f9f75",
   "metadata": {},
   "source": [
    "## 1.3.7 if문"
   ]
  },
  {
   "cell_type": "code",
   "execution_count": 7,
   "id": "50d0289a",
   "metadata": {},
   "outputs": [
    {
     "name": "stdout",
     "output_type": "stream",
     "text": [
      "I'm hungry\n",
      "I'm not hungry\n",
      "I'm sleepy\n"
     ]
    }
   ],
   "source": [
    "hungry = True\n",
    "if hungry:\n",
    "    print(\"I'm hungry\")\n",
    "    \n",
    "hungry = False\n",
    "if hungry:\n",
    "    print(\"I'm hungry\")\n",
    "else:\n",
    "    print(\"I'm not hungry\")\n",
    "    print(\"I'm sleepy\")"
   ]
  },
  {
   "cell_type": "markdown",
   "id": "a3938747",
   "metadata": {},
   "source": [
    "## 1.3.8 for문"
   ]
  },
  {
   "cell_type": "markdown",
   "id": "3797bc98",
   "metadata": {},
   "source": [
    "## 1.3.9 함수"
   ]
  },
  {
   "cell_type": "code",
   "execution_count": 9,
   "id": "2075e9aa",
   "metadata": {},
   "outputs": [
    {
     "name": "stdout",
     "output_type": "stream",
     "text": [
      "Hello World!\n"
     ]
    }
   ],
   "source": [
    "def hello():\n",
    "    print(\"Hello World!\")\n",
    "    \n",
    "hello()"
   ]
  },
  {
   "cell_type": "code",
   "execution_count": 10,
   "id": "1b6c8812",
   "metadata": {},
   "outputs": [
    {
     "name": "stdout",
     "output_type": "stream",
     "text": [
      "Hello cat!\n"
     ]
    }
   ],
   "source": [
    "def hello(object):\n",
    "    print(\"Hello \" + object + \"!\")\n",
    "    \n",
    "hello(\"cat\")"
   ]
  },
  {
   "cell_type": "markdown",
   "id": "14507e10",
   "metadata": {},
   "source": [
    "# 1.4 파이썬 스크립트 파일"
   ]
  },
  {
   "cell_type": "markdown",
   "id": "08a68f93",
   "metadata": {},
   "source": [
    "파이썬 프로그램을 파일로 저장하고, 그 파일을 함께 실행하는 방법이 있음\n",
    "-> 파이썬 스크립트 파일"
   ]
  },
  {
   "cell_type": "markdown",
   "id": "ec230dcf",
   "metadata": {},
   "source": [
    "### 1.4.1 파일로 저장하기"
   ]
  },
  {
   "cell_type": "markdown",
   "id": "0389edd4",
   "metadata": {},
   "source": [
    "### 1.4.2 클래스"
   ]
  },
  {
   "cell_type": "markdown",
   "id": "0834e062",
   "metadata": {},
   "source": [
    "개발자가 직접 클래스를 정의하면, 독자적인 자료형을 만들 수 있음\n",
    "\n",
    "클래스만의 속성과 메소드를 정의할 수도 있음\n",
    "\n",
    "'class'라는 키워드를 사용하여 클래스를 정의"
   ]
  },
  {
   "cell_type": "code",
   "execution_count": 1,
   "id": "3bc909f1",
   "metadata": {},
   "outputs": [
    {
     "ename": "SyntaxError",
     "evalue": "invalid syntax (1527611473.py, line 2)",
     "output_type": "error",
     "traceback": [
      "\u001b[1;36m  Input \u001b[1;32mIn [1]\u001b[1;36m\u001b[0m\n\u001b[1;33m    class 클래스 이름:\u001b[0m\n\u001b[1;37m              ^\u001b[0m\n\u001b[1;31mSyntaxError\u001b[0m\u001b[1;31m:\u001b[0m invalid syntax\n"
     ]
    }
   ],
   "source": [
    "#class 키워드를 사용하여 클래스 정의\n",
    "class 클래스 이름:\n",
    "    def __init__(self, 인수, ...):        #__init__이라는 메서드로 class를 초기화시킴 -> constructor(생성자)    \n",
    "                                           #class의 인스턴스가 만들어질 때 한 번만 불림.\n",
    "                                           \n",
    "                                           #클래스의 메서드가 정의될 때 인수로 반드시 self를 가짐(생성된 인스턴스 자기자신을 가리킴.)\n",
    "    def 메서드이름1(self, 인수, ...):\n",
    "        "
   ]
  },
  {
   "cell_type": "code",
   "execution_count": 2,
   "id": "aa4a2bf6",
   "metadata": {},
   "outputs": [
    {
     "name": "stdout",
     "output_type": "stream",
     "text": [
      "Initialized!\n",
      "HelloDavid!\n",
      "Good-bye David!\n"
     ]
    }
   ],
   "source": [
    "class Man:\n",
    "    def __init__(self, name):\n",
    "        self.name = name\n",
    "        print(\"Initialized!\")\n",
    "        \n",
    "    def hello(self):            \n",
    "        print(\"Hello\" + self.name + \"!\")\n",
    "        \n",
    "    def goodbye(self):\n",
    "        print(\"Good-bye \" + self.name + \"!\")\n",
    "\n",
    "m = Man(\"David\")\n",
    "m.hello()         #인스턴스에서 메서드 호출시, 첫 번째 인자인 self는 자동으로 넘겨진다\n",
    "m.goodbye()"
   ]
  },
  {
   "cell_type": "markdown",
   "id": "2cce9652",
   "metadata": {},
   "source": [
    "# 1.5 넘파이"
   ]
  },
  {
   "cell_type": "markdown",
   "id": "7d7c4697",
   "metadata": {},
   "source": [
    "### 1.5.1 넘파이 가져오기"
   ]
  },
  {
   "cell_type": "code",
   "execution_count": 3,
   "id": "5c8a5e21",
   "metadata": {},
   "outputs": [],
   "source": [
    "import numpy as np"
   ]
  },
  {
   "cell_type": "markdown",
   "id": "e1971d76",
   "metadata": {},
   "source": [
    "### 1.5.2 넘파이 배열 생성하기"
   ]
  },
  {
   "cell_type": "markdown",
   "id": "fbffbd09",
   "metadata": {},
   "source": [
    "numpy 배열 생성 시에는 np.array() 사용\n",
    "\n",
    "np.array() 안 인자에는 리스트가 보통 전달됨"
   ]
  },
  {
   "cell_type": "code",
   "execution_count": 5,
   "id": "ee53c77f",
   "metadata": {},
   "outputs": [
    {
     "name": "stdout",
     "output_type": "stream",
     "text": [
      "[1. 2. 3.]\n"
     ]
    },
    {
     "data": {
      "text/plain": [
       "numpy.ndarray"
      ]
     },
     "execution_count": 5,
     "metadata": {},
     "output_type": "execute_result"
    }
   ],
   "source": [
    "x = np.array([1.0, 2.0, 3.0])\n",
    "print(x)\n",
    "type(x)"
   ]
  },
  {
   "cell_type": "markdown",
   "id": "040b6e64",
   "metadata": {},
   "source": [
    "### 1.5.3 넘파이의 산술연산"
   ]
  },
  {
   "cell_type": "markdown",
   "id": "24c3eeb6",
   "metadata": {},
   "source": [
    "(1)\n",
    "\n",
    "넘파이 배열들끼리 산술연산을 수행할 수 있다.\n",
    "\n",
    "주의할 점은 배열들 간의 크기(shape)이 같아야한다는 점이다.\n",
    "\n",
    "-> 배열들 간의 shape이 같으면, element-wise(원소별) 연산을 수행한다."
   ]
  },
  {
   "cell_type": "markdown",
   "id": "7e55e55a",
   "metadata": {},
   "source": [
    "(2)\n",
    "\n",
    "넘파이 배열과 스칼라값의 조합으로 된 산술연산도 수행할 수 있다.\n",
    "\n",
    "-> 스칼라값이 넘파이 배열의 원소별로 한 번씩 연산된다. : 브로드캐스트(broadcast, (확장))라고 한다."
   ]
  },
  {
   "cell_type": "code",
   "execution_count": 7,
   "id": "b8737917",
   "metadata": {},
   "outputs": [
    {
     "data": {
      "text/plain": [
       "array([0.5, 1. , 1.5])"
      ]
     },
     "execution_count": 7,
     "metadata": {},
     "output_type": "execute_result"
    }
   ],
   "source": [
    "x = np.array([1.0, 2.0, 3.0])\n",
    "x / 2.0"
   ]
  },
  {
   "cell_type": "markdown",
   "id": "84aa961b",
   "metadata": {},
   "source": [
    "### 1.5.4 넘파이의 N차원 배열"
   ]
  },
  {
   "cell_type": "markdown",
   "id": "c43c600a",
   "metadata": {},
   "source": [
    "넘파이는 다차원 배열도 가능하다.\n",
    "\n",
    "행렬은 2차원 배열로 작성한다. 리스트의 리스트를 이용해서 작성한다.\n",
    "\n",
    "작성한 넘파이 배열의 크기는 shape 변수로, 넘파이 배열 안의 값들의 자료형은 dtype 변수로 알 수 있다."
   ]
  },
  {
   "cell_type": "code",
   "execution_count": 15,
   "id": "fa46dd47",
   "metadata": {},
   "outputs": [
    {
     "name": "stdout",
     "output_type": "stream",
     "text": [
      "[[1 2]\n",
      " [3 4]]\n",
      "(2, 2)\n",
      "int32\n"
     ]
    }
   ],
   "source": [
    "A = np.array([[1,2],\n",
    "             [3,4]])\n",
    "print(A)\n",
    "print(A.shape)\n",
    "print(A.dtype)"
   ]
  },
  {
   "cell_type": "code",
   "execution_count": 20,
   "id": "a795aa21",
   "metadata": {},
   "outputs": [
    {
     "name": "stdout",
     "output_type": "stream",
     "text": [
      "[[ 3  0]\n",
      " [ 0 24]]\n"
     ]
    }
   ],
   "source": [
    "A = np.array([[1,2],\n",
    "             [3,4]])\n",
    "B = np.array([[3,0],\n",
    "              [0,6]])\n",
    "\n",
    "print(A*B)"
   ]
  },
  {
   "cell_type": "code",
   "execution_count": 21,
   "id": "543a3d02",
   "metadata": {},
   "outputs": [
    {
     "name": "stdout",
     "output_type": "stream",
     "text": [
      "[[1 2]\n",
      " [3 4]]\n"
     ]
    },
    {
     "data": {
      "text/plain": [
       "array([[10, 20],\n",
       "       [30, 40]])"
      ]
     },
     "execution_count": 21,
     "metadata": {},
     "output_type": "execute_result"
    }
   ],
   "source": [
    "print(A)\n",
    "A*10"
   ]
  },
  {
   "cell_type": "markdown",
   "id": "c7f33334",
   "metadata": {},
   "source": [
    "1차원 배열은 벡터(Vector)\n",
    "\n",
    "2차원 배열은 행렬(Matrix)\n",
    "\n",
    "벡터와 행렬을 일반화한 것은 텐서(tensor)라고 한다.\n",
    "\n",
    "3차원 이상의 배열을 다차원 배열이라고 한다."
   ]
  },
  {
   "cell_type": "markdown",
   "id": "7c2eca6b",
   "metadata": {},
   "source": [
    "### 1.5.5 브로드캐스트"
   ]
  },
  {
   "cell_type": "markdown",
   "id": "ffbbaf73",
   "metadata": {},
   "source": [
    "shape이 다른 넘파이 배열들끼리도 연산이 가능하다.\n",
    "\n",
    "2x2 행렬에 10이라는 스칼라값이 더해질 때, 실질적으로는 10이라는 스칼라가 2x2의 행렬로 확대된 후(shape이 맞춰짐) 연산된다. -> 브로드캐스트"
   ]
  },
  {
   "cell_type": "code",
   "execution_count": 23,
   "id": "844b3e5e",
   "metadata": {},
   "outputs": [
    {
     "data": {
      "text/plain": [
       "array([[10, 40],\n",
       "       [30, 80]])"
      ]
     },
     "execution_count": 23,
     "metadata": {},
     "output_type": "execute_result"
    }
   ],
   "source": [
    "A = np.array([[1,2],\n",
    "             [3,4]])\n",
    "B = np.array([10,20])      #[10,20]이라는 1차원 배열이 [[10,20], [10,20]]의 2차원 배열로 확장된다.\n",
    "\n",
    "A*B"
   ]
  },
  {
   "cell_type": "markdown",
   "id": "6975afba",
   "metadata": {},
   "source": [
    "### 1.5.6 원소접근"
   ]
  },
  {
   "cell_type": "code",
   "execution_count": 32,
   "id": "f583a790",
   "metadata": {},
   "outputs": [
    {
     "name": "stdout",
     "output_type": "stream",
     "text": [
      "[[51 55]\n",
      " [14 19]\n",
      " [ 0  4]]\n",
      "[51 55]\n",
      "55\n"
     ]
    }
   ],
   "source": [
    "X = np.array([[51,55],\n",
    "             [14,19],\n",
    "             [0,4]])\n",
    "print(X)\n",
    "\n",
    "print(X[0])\n",
    "print(X[0][1]) # == X[0,1]과도 같음"
   ]
  },
  {
   "cell_type": "code",
   "execution_count": 33,
   "id": "9a37676f",
   "metadata": {},
   "outputs": [
    {
     "name": "stdout",
     "output_type": "stream",
     "text": [
      "[51 55]\n",
      "[14 19]\n",
      "[0 4]\n"
     ]
    }
   ],
   "source": [
    "for row in X:\n",
    "    print(row)"
   ]
  },
  {
   "cell_type": "markdown",
   "id": "d25bffa1",
   "metadata": {},
   "source": [
    "넘파이는 인덱스를 배열로 지정해 한 번에 여러 원소에 접근할 수도 있다."
   ]
  },
  {
   "cell_type": "code",
   "execution_count": 41,
   "id": "3a2c1479",
   "metadata": {},
   "outputs": [
    {
     "name": "stdout",
     "output_type": "stream",
     "text": [
      "[51 55 14 19  0  4]\n"
     ]
    },
    {
     "ename": "IndexError",
     "evalue": "too many indices for array: array is 1-dimensional, but 3 were indexed",
     "output_type": "error",
     "traceback": [
      "\u001b[1;31m---------------------------------------------------------------------------\u001b[0m",
      "\u001b[1;31mIndexError\u001b[0m                                Traceback (most recent call last)",
      "Input \u001b[1;32mIn [41]\u001b[0m, in \u001b[0;36m<module>\u001b[1;34m\u001b[0m\n\u001b[0;32m      1\u001b[0m X \u001b[38;5;241m=\u001b[39m X\u001b[38;5;241m.\u001b[39mflatten() \u001b[38;5;66;03m#2차원의 배열을 1차원 배열로 변환(평탄화)\u001b[39;00m\n\u001b[0;32m      2\u001b[0m \u001b[38;5;28mprint\u001b[39m(X) \u001b[38;5;66;03m#list가 아니라 ndarray로 접근을 해야한다. list로 접근하면 다차원 배열의 인덱스로 인식하여 오류 발생.\u001b[39;00m\n\u001b[1;32m----> 3\u001b[0m \u001b[43mX\u001b[49m\u001b[43m[\u001b[49m\u001b[38;5;241;43m0\u001b[39;49m\u001b[43m,\u001b[49m\u001b[38;5;241;43m1\u001b[39;49m\u001b[43m,\u001b[49m\u001b[38;5;241;43m2\u001b[39;49m\u001b[43m]\u001b[49m\n",
      "\u001b[1;31mIndexError\u001b[0m: too many indices for array: array is 1-dimensional, but 3 were indexed"
     ]
    }
   ],
   "source": [
    "X = X.flatten() #2차원의 배열을 1차원 배열로 변환(평탄화)\n",
    "print(X) #list가 아니라 ndarray로 접근을 해야한다. list로 접근하면 다차원 배열의 인덱스로 인식하여 오류 발생.\n",
    "X[0,1,2]"
   ]
  },
  {
   "cell_type": "code",
   "execution_count": 37,
   "id": "b71a9ee3",
   "metadata": {},
   "outputs": [
    {
     "data": {
      "text/plain": [
       "array([51, 14,  0])"
      ]
     },
     "execution_count": 37,
     "metadata": {},
     "output_type": "execute_result"
    }
   ],
   "source": [
    "X[np.array([0,2,4])]"
   ]
  },
  {
   "cell_type": "code",
   "execution_count": 38,
   "id": "f663a0d8",
   "metadata": {},
   "outputs": [
    {
     "data": {
      "text/plain": [
       "array([ True,  True, False,  True, False, False])"
      ]
     },
     "execution_count": 38,
     "metadata": {},
     "output_type": "execute_result"
    }
   ],
   "source": [
    "X>15"
   ]
  },
  {
   "cell_type": "code",
   "execution_count": 54,
   "id": "d3c36057",
   "metadata": {},
   "outputs": [
    {
     "data": {
      "text/plain": [
       "array([51, 55, 19])"
      ]
     },
     "execution_count": 54,
     "metadata": {},
     "output_type": "execute_result"
    }
   ],
   "source": [
    "X[X>15] #팬시인덱싱"
   ]
  },
  {
   "cell_type": "markdown",
   "id": "4aa4fdb1",
   "metadata": {},
   "source": [
    "# 1.6 matplotlib"
   ]
  },
  {
   "cell_type": "markdown",
   "id": "79d2d837",
   "metadata": {},
   "source": [
    "딥러닝 실험에서는 그래프 그리기와 데이터 시각화도 중요하다.\n",
    "\n",
    "matplotlib는 그래프를 그려주는 라이브러리이다."
   ]
  },
  {
   "cell_type": "markdown",
   "id": "920ba99c",
   "metadata": {},
   "source": [
    "### 1.6.1 단순한 그래프 그리기"
   ]
  },
  {
   "cell_type": "markdown",
   "id": "8f351d1b",
   "metadata": {},
   "source": [
    "그래프를 그리려면, matplotlib의 pyplot이라는 모듈을 이용한다.\n",
    "\n",
    "sin함수를 그리는 예는 다음과 같다."
   ]
  },
  {
   "cell_type": "code",
   "execution_count": 53,
   "id": "cd83d4f8",
   "metadata": {},
   "outputs": [
    {
     "data": {
      "image/png": "[encoded data removed]",
      "text/plain": [
       "<Figure size 432x288 with 1 Axes>"
      ]
     },
     "metadata": {
      "needs_background": "light"
     },
     "output_type": "display_data"
    }
   ],
   "source": [
    "import numpy as np\n",
    "import matplotlib.pyplot as plt\n",
    "\n",
    "#데이터 준비\n",
    "x = np.arange(0, 6, 0.1)   #np.arange()는 파이썬의 range함수와 다르게 실수도 지원 가능.\n",
    "y = np.sin(x)\n",
    "\n",
    "plt.plot(x, y)\n",
    "plt.show()"
   ]
  },
  {
   "cell_type": "markdown",
   "id": "27765a26",
   "metadata": {},
   "source": [
    "### 1.6.2 pyplot의 기능"
   ]
  },
  {
   "cell_type": "markdown",
   "id": "2ac331b1",
   "metadata": {},
   "source": [
    "cos함수를 그려보자."
   ]
  },
  {
   "cell_type": "code",
   "execution_count": 69,
   "id": "67fa0311",
   "metadata": {},
   "outputs": [
    {
     "data": {
      "image/png": "[encoded data removed]",
      "text/plain": [
       "<Figure size 432x288 with 1 Axes>"
      ]
     },
     "metadata": {
      "needs_background": "light"
     },
     "output_type": "display_data"
    }
   ],
   "source": [
    "import numpy as np\n",
    "import matplotlib.pyplot as plt\n",
    "\n",
    "#데이터 준비\n",
    "x = np.arange(0, 6, 0.1)\n",
    "y1 = np.sin(x)\n",
    "y2 = np.cos(x)\n",
    "\n",
    "plt.plot(x, y1, label = 'sin')\n",
    "plt.plot(x, y2, linestyle='--', label = 'cos')\n",
    "\n",
    "plt.xlabel('x')\n",
    "plt.ylabel('y')\n",
    "\n",
    "plt.title('sin & cos')\n",
    "plt.legend()\n",
    "\n",
    "plt.show()"
   ]
  },
  {
   "cell_type": "markdown",
   "id": "5be9c974",
   "metadata": {},
   "source": [
    "### 1.6.3 이미지 표시하기"
   ]
  },
  {
   "cell_type": "markdown",
   "id": "bb8c8913",
   "metadata": {},
   "source": [
    "matplotlib.pyplot 모듈의 imshow() -> 이미지 출력\n",
    "\n",
    "matplotlib.image 모듈의 imread() -> 이미지 읽어들이기"
   ]
  },
  {
   "cell_type": "code",
   "execution_count": 73,
   "id": "2489b1c1",
   "metadata": {},
   "outputs": [
    {
     "data": {
      "image/png": "[encoded data removed]",
      "text/plain": [
       "<Figure size 432x288 with 1 Axes>"
      ]
     },
     "metadata": {
      "needs_background": "light"
     },
     "output_type": "display_data"
    }
   ],
   "source": [
    "import matplotlib.pyplot as plt\n",
    "from matplotlib.image import imread\n",
    "\n",
    "img = imread(\"C:/Users/kyw97/푸앙이.png\")\n",
    "\n",
    "plt.imshow(img)\n",
    "plt.show()"
   ]
  },
  {
   "cell_type": "code",
   "execution_count": null,
   "id": "213a600b",
   "metadata": {},
   "outputs": [],
   "source": []
  }
 ],
 "metadata": {
  "kernelspec": {
   "display_name": "Python 3 (ipykernel)",
   "language": "python",
   "name": "python3"
  },
  "language_info": {
   "codemirror_mode": {
    "name": "ipython",
    "version": 3
   },
   "file_extension": ".py",
   "mimetype": "text/x-python",
   "name": "python",
   "nbconvert_exporter": "python",
   "pygments_lexer": "ipython3",
   "version": "3.9.16"
  }
 },
 "nbformat": 4,
 "nbformat_minor": 5
}
