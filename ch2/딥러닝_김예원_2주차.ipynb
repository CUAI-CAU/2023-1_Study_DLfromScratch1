{
 "cells": [
  {
   "cell_type": "markdown",
   "id": "73e7a2a8",
   "metadata": {},
   "source": [
    "# ch2. 퍼셉트론"
   ]
  },
  {
   "cell_type": "markdown",
   "id": "0134041a",
   "metadata": {},
   "source": [
    "* 퍼셉트론 알고리즘 : 퍼셉트론은 신경망의 기원이 되는 알고리즘이다. 퍼셉트론의 구조를 배우는 것은 신경망과 딥러닝으로 나아가기 위해 중요하다."
   ]
  },
  {
   "cell_type": "markdown",
   "id": "6d89fe02",
   "metadata": {},
   "source": [
    "## 2.1 퍼셉트론이란?"
   ]
  },
  {
   "cell_type": "markdown",
   "id": "fd9bf806",
   "metadata": {},
   "source": [
    "퍼셉트론(Perceptron)은 다수의 신호를 입력으로 받아, 하나의 신호를 출력한다."
   ]
  },
  {
   "cell_type": "code",
   "execution_count": 22,
   "id": "8e832a16",
   "metadata": {},
   "outputs": [
    {
     "data": {
      "image/png": "[encoded data removed]",
      "text/plain": [
       "<IPython.core.display.Image object>"
      ]
     },
     "metadata": {},
     "output_type": "display_data"
    },
    {
     "name": "stdout",
     "output_type": "stream",
     "text": [
      "<입력이 2개인 퍼셉트론>\n"
     ]
    }
   ],
   "source": [
    "from IPython.display import Image\n",
    "img = Image(\"C:/Users/kyw97/Pictures/Screenshots/스크린샷 2023-03-19 203249.png\")\n",
    "display(img)\n",
    "\n",
    "print(\"<입력이 2개인 퍼셉트론>\")"
   ]
  },
  {
   "cell_type": "markdown",
   "id": "ed881ddf",
   "metadata": {},
   "source": [
    "x1과 x2는 입력신호, y는 출력신호이다.\n",
    "\n",
    "w1과 w2는 weight(가중치)을 뜻한다.\n",
    "\n",
    "그림의 원을 뉴런 또는 node라고 부르는데, 신호들이 뉴런에 전해질 때 각각의 고유한 가중치가 곱해진다.\n",
    "\n",
    "* 가중치 : 해당 신호가 결과에 영향을 미치는 정도, 중요도\n",
    "\n",
    "뉴런에서 보내온 신호의 총합이 임계값(theta)을 넘을 때, 1을 출력한다. (뉴런이 활성화된다라고 표현)"
   ]
  },
  {
   "cell_type": "markdown",
   "id": "f42eee36",
   "metadata": {},
   "source": [
    "## 2.2 단순한 논리 회로"
   ]
  },
  {
   "cell_type": "markdown",
   "id": "6fae49b7",
   "metadata": {},
   "source": [
    "### 2.2.1 AND 게이트"
   ]
  },
  {
   "cell_type": "markdown",
   "id": "52e18b93",
   "metadata": {},
   "source": [
    "AND게이트는 두 입력이 모두 1일 때만 1을 출력하고, 그 외에는 0을 출력한다.\n",
    "\n",
    "AND 게이트를 퍼셉트론으로 표현하고 싶다면, w1과 w2, theta를 설정하면 된다."
   ]
  },
  {
   "cell_type": "markdown",
   "id": "85f0947c",
   "metadata": {},
   "source": [
    "### 2.2.2 NAND 게이트와 OR 게이트"
   ]
  },
  {
   "cell_type": "markdown",
   "id": "37cd0358",
   "metadata": {},
   "source": [
    "NAND 게이트는 Not And 게이트이다. 다시 말해, AND 게이트의 출력을 뒤집은 것이다.\n",
    "\n",
    "두 출력이 모두 1일 때만 0을 출력하고, 그 외에는 1을 출력한다."
   ]
  },
  {
   "cell_type": "markdown",
   "id": "de98feff",
   "metadata": {},
   "source": [
    "OR 게이트는 두 입력신호 중 단 하나라도 1이면 1을 출력하고, 그 외에는 0을 출력한다. "
   ]
  },
  {
   "cell_type": "markdown",
   "id": "1a68bcac",
   "metadata": {},
   "source": [
    "-> 퍼셉트론으로 AND, NAND, OR 게이트를 표현할 수 있고, 퍼셉트론의 구조는 세 게이트에서 모두 동일하다. 단지 매개변수(가중치, theta임계값)만 달라짐."
   ]
  },
  {
   "cell_type": "markdown",
   "id": "b1717518",
   "metadata": {},
   "source": [
    "## 2.3 퍼셉트론 구현하기"
   ]
  },
  {
   "cell_type": "markdown",
   "id": "37260a21",
   "metadata": {},
   "source": [
    "### 2.3.1 간단한 구현부터"
   ]
  },
  {
   "cell_type": "code",
   "execution_count": 43,
   "id": "922eb75e",
   "metadata": {},
   "outputs": [],
   "source": [
    "def AND(x1, x2):\n",
    "    w1, w2, theta = 0.5, 0.5, 0.7\n",
    "    \n",
    "    tmp = w1*x1 + w2*x2\n",
    "    \n",
    "    if tmp <= theta:\n",
    "        return 0\n",
    "    elif tmp > theta:\n",
    "        return 1"
   ]
  },
  {
   "cell_type": "code",
   "execution_count": 44,
   "id": "01c0b37c",
   "metadata": {},
   "outputs": [
    {
     "name": "stdout",
     "output_type": "stream",
     "text": [
      "0\n",
      "0\n",
      "0\n",
      "1\n"
     ]
    }
   ],
   "source": [
    "print(AND(0,0))\n",
    "print(AND(1,0))\n",
    "print(AND(0,1))\n",
    "print(AND(1,1))"
   ]
  },
  {
   "cell_type": "markdown",
   "id": "4c0a4759",
   "metadata": {},
   "source": [
    "### 2.3.2 가중치와 편향 도입"
   ]
  },
  {
   "cell_type": "markdown",
   "id": "70a6e7ec",
   "metadata": {},
   "source": [
    "퍼셉트론 식의 theta(임계값)을 -b로 치환한다.\n",
    "\n",
    "입력신호에 각각의 가중치를 곱한 값의 합에 b를 더한 값이 0을 넘으면 1을 출력, 그렇지 않으면 0을 출력한다."
   ]
  },
  {
   "cell_type": "code",
   "execution_count": 45,
   "id": "467505b6",
   "metadata": {},
   "outputs": [],
   "source": [
    "import numpy as np"
   ]
  },
  {
   "cell_type": "code",
   "execution_count": 50,
   "id": "72f29d22",
   "metadata": {},
   "outputs": [
    {
     "data": {
      "text/plain": [
       "-0.19999999999999996"
      ]
     },
     "execution_count": 50,
     "metadata": {},
     "output_type": "execute_result"
    }
   ],
   "source": [
    "x = np.array([0,1])\n",
    "w = np.array([0.5, 0.5])\n",
    "b = -0.7\n",
    "\n",
    "np.sum(w*x) + b"
   ]
  },
  {
   "cell_type": "markdown",
   "id": "a619b785",
   "metadata": {},
   "source": [
    "### 2.3.3 가중치와 편향 구하기"
   ]
  },
  {
   "cell_type": "markdown",
   "id": "e5269123",
   "metadata": {},
   "source": [
    "가중치와 편향을 도입한 AND 게이트를 구현해보자."
   ]
  },
  {
   "cell_type": "code",
   "execution_count": 80,
   "id": "ba133109",
   "metadata": {},
   "outputs": [],
   "source": [
    "def AND(x1, x2):\n",
    "    x = np.array([x1, x2])\n",
    "    w = np.array([0.5, 0.5])\n",
    "    b = -0.7\n",
    "    \n",
    "    s = sum(x*w) + b\n",
    "    \n",
    "    if s > 0:\n",
    "        return 1\n",
    "    else:\n",
    "        return 0"
   ]
  },
  {
   "cell_type": "code",
   "execution_count": 81,
   "id": "718bc802",
   "metadata": {},
   "outputs": [],
   "source": [
    "def NAND(x1, x2):\n",
    "    x = np.array([x1, x2])\n",
    "    w = np.array([-0.5, -0.5])\n",
    "    b = 0.7\n",
    "    \n",
    "    tmp = np.sum(w*x) + b\n",
    "    \n",
    "    if tmp > 0:\n",
    "        return 1\n",
    "    else:\n",
    "        return 0"
   ]
  },
  {
   "cell_type": "code",
   "execution_count": 82,
   "id": "0d3e8671",
   "metadata": {},
   "outputs": [],
   "source": [
    "def OR(x1, x2):\n",
    "    x = np.array([x1, x2])\n",
    "    w = np.array([0.5, 0.5])\n",
    "    b = -0.2\n",
    "    \n",
    "    tmp = np.sum(w*x) + b\n",
    "    \n",
    "    if tmp > 0:\n",
    "        return 1\n",
    "    else:\n",
    "        return 0"
   ]
  },
  {
   "cell_type": "markdown",
   "id": "77b76cb1",
   "metadata": {},
   "source": [
    "* 가중치 : 입력신호들이 결과에 영향을 미치는 정도, 중요도\n",
    "* 편향 : 뉴런이 얼마나 쉽게 활성화될 수 있는지를 나타내는 지표"
   ]
  },
  {
   "cell_type": "markdown",
   "id": "c36ab7f0",
   "metadata": {},
   "source": [
    "## 2.4 퍼셉트론의 한계"
   ]
  },
  {
   "cell_type": "markdown",
   "id": "f812bce6",
   "metadata": {},
   "source": [
    "### 2.4.1 XOR 게이트"
   ]
  },
  {
   "cell_type": "markdown",
   "id": "71ba98f7",
   "metadata": {},
   "source": [
    "XOR 게이트의 영역을 하나의 직선으로 나타내는 것은 불가능하다!"
   ]
  },
  {
   "cell_type": "markdown",
   "id": "e3113f57",
   "metadata": {},
   "source": [
    "### 2.4.2 선형과 비선형"
   ]
  },
  {
   "cell_type": "markdown",
   "id": "3d73957f",
   "metadata": {},
   "source": [
    "퍼셉트론은 w1*x1 + w2*x2 등의 형태로 표현되기 때문에, 항상 *직선*의 형태로 표현된다는 한계가 있다.\n",
    "\n",
    "* 선형: 직선\n",
    "* 비선형 : 곡선"
   ]
  },
  {
   "cell_type": "markdown",
   "id": "78caea8e",
   "metadata": {},
   "source": [
    "## 2.5 다층 퍼셉트론이 출동한다면"
   ]
  },
  {
   "cell_type": "markdown",
   "id": "508fc340",
   "metadata": {},
   "source": [
    "* 다층 퍼셉트론(multi-layer perceptron) : '단층' 퍼셉트론으로는 XOR 게이트를 분류할 수 없지만, '다층' 퍼셉트론으로는 XOR 게이트를 분류할 수 있다."
   ]
  },
  {
   "cell_type": "markdown",
   "id": "184f25db",
   "metadata": {},
   "source": [
    "### 2.5.1 기존 게이트 조합하기"
   ]
  },
  {
   "cell_type": "markdown",
   "id": "4cd2d951",
   "metadata": {},
   "source": [
    "NAND 게이트와 OR 게이트의 출력을 AND 게이트의 입력으로 받으면, XOR 게이트를 구현할 수 있다."
   ]
  },
  {
   "cell_type": "markdown",
   "id": "39d5c029",
   "metadata": {},
   "source": [
    "### 2.5.2 XOR 게이트 구현하기"
   ]
  },
  {
   "cell_type": "code",
   "execution_count": 83,
   "id": "f59182f4",
   "metadata": {},
   "outputs": [],
   "source": [
    "def XOR(x1, x2):\n",
    "    s1 = NAND(x1, x2)\n",
    "    s2 = OR(x1, x2)\n",
    "    y = AND(s1, s2)\n",
    "    \n",
    "    return y"
   ]
  },
  {
   "cell_type": "code",
   "execution_count": 89,
   "id": "dfd16ebe",
   "metadata": {},
   "outputs": [
    {
     "name": "stdout",
     "output_type": "stream",
     "text": [
      "0\n",
      "1\n",
      "1\n",
      "0\n"
     ]
    }
   ],
   "source": [
    "print(XOR(1,1))\n",
    "print(XOR(1,0))\n",
    "print(XOR(0,1))\n",
    "print(XOR(0,0))"
   ]
  },
  {
   "cell_type": "markdown",
   "id": "76302c15",
   "metadata": {},
   "source": [
    "XOR 게이트를 표현하는 퍼셉트론(2층 퍼셉트론)은 multi-layer 퍼셉트론이다.\n",
    "\n",
    "-> single-layer로 표현하지 못한 것을 층을 늘려 multi-layer로 표현할 수 있다.\n",
    "\n",
    "* 다층 퍼셉트론 : 층이 여러 개인 퍼셉트론"
   ]
  },
  {
   "cell_type": "markdown",
   "id": "75d24b6c",
   "metadata": {},
   "source": [
    "## 2.6 NAND에서 컴퓨터까지"
   ]
  },
  {
   "cell_type": "markdown",
   "id": "d9bfdebe",
   "metadata": {},
   "source": [
    "## 2.7 정리"
   ]
  },
  {
   "cell_type": "markdown",
   "id": "db5ee095",
   "metadata": {},
   "source": [
    "퍼셉트론은 ..\n",
    "1. input과 output이 있는 알고리즘\n",
    "2. 매개변수로 가중치(weight)과 편향(bias)를 가진다.\n",
    "3. AND, NAND, OR 게이트(직선영역으로 분류)를 표현할 수 있다.\n",
    "4. 하지만 XOR 게이트는 표현할 수 없다. (XOR 게이트는 비선형으로 분류해야하기 때문에)\n",
    "\n",
    "   -> 2층 퍼셉트론을 이용하면, XOR 게이트를 표현할 수 있다.\n",
    "5. 단층 퍼셉트론은 직선형 영역을 표현, multi-layer는 비선형역역도 표현할 수 있다.\n",
    "6. multi-layer 퍼셉트론으로 컴퓨터도 표현할 수 있다.\n"
   ]
  },
  {
   "cell_type": "code",
   "execution_count": null,
   "id": "bae0d53b",
   "metadata": {},
   "outputs": [],
   "source": [
    "김예원 2장 완료했습니다. 3/19"
   ]
  }
 ],
 "metadata": {
  "kernelspec": {
   "display_name": "Python 3 (ipykernel)",
   "language": "python",
   "name": "python3"
  },
  "language_info": {
   "codemirror_mode": {
    "name": "ipython",
    "version": 3
   },
   "file_extension": ".py",
   "mimetype": "text/x-python",
   "name": "python",
   "nbconvert_exporter": "python",
   "pygments_lexer": "ipython3",
   "version": "3.9.16"
  }
 },
 "nbformat": 4,
 "nbformat_minor": 5
}
