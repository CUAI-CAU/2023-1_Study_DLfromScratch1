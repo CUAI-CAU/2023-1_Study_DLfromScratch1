{
 "cells": [
  {
   "attachments": {},
   "cell_type": "markdown",
   "metadata": {},
   "source": [
    "### 7.1 전체 구조"
   ]
  },
  {
   "attachments": {},
   "cell_type": "markdown",
   "metadata": {},
   "source": [
    "##### 완전 연결: 지금까지 본 신경망은 인접하는 계층의 모든 뉴런과 결합되어 있었다.\n",
    "##### 완전히 연결된 계층을 Affine 계층이라는 이름으로 구현하였다.\n",
    "\n",
    "![image.png](attachment:image.png)\n",
    "\n",
    "##### 위 그림에서는 Affine-ReLU 조합이 4개가 쌓였고, 마지막 5번째 층은 Affine 계층에 이어 소프트맥스 계층에서 최종 결과(확률)을 출력한다."
   ]
  },
  {
   "attachments": {},
   "cell_type": "markdown",
   "metadata": {},
   "source": [
    "##### 완전연결 신경망은 Affine 계층 뒤에 활성화 함수를 갖는 ReLU 계층이 이어진다. \n",
    "##### 마지막 5번째 층은 Affine 계층에 이어 softmax 계층에서 최종결과를 출력한다.\n",
    "##### CNN 구조는 다음과 같다.\n",
    "\n",
    "![image.png](attachment:image.png)"
   ]
  },
  {
   "attachments": {},
   "cell_type": "markdown",
   "metadata": {},
   "source": [
    "##### CNN에는 합성곱 계층과 폴링 계층이 추가된다. \n",
    "##### CNN 계층은 Conv-ReLU 흐름으로 연결된다. \n",
    "##### Affine-ReLU 에서 Conv-Relu 로 바뀌었다고 생각하면 된다.\n",
    "##### CNN의 특징 중 또 하나는 출력에 가까운 층에서는 Affine-ReLU 구성을 사용할 수 있다는 점이다. \n",
    "##### 마지막 출력 계층에서는 Affine-Softmax 조합을 그대로 사용한다."
   ]
  },
  {
   "attachments": {},
   "cell_type": "markdown",
   "metadata": {},
   "source": [
    "### 7.2 합성곱 계층\n"
   ]
  },
  {
   "attachments": {},
   "cell_type": "markdown",
   "metadata": {},
   "source": [
    "#### 7.2.1 완전연결 계층의 문제점\n"
   ]
  },
  {
   "attachments": {},
   "cell_type": "markdown",
   "metadata": {},
   "source": [
    "##### 완전연결 계층에서는 인접하는 계층의 뉴런이 모두 연결되고 출력의 수는 임의로 정할 수 있다. \n",
    "##### 하지만 데이터의 형상이 무시된다는 문제점이 있다. \n",
    "##### 완전연결 계층에서 이미지를 예를 들면 가로 세로 채널(색상)으로 구성된 3차원을 입력할 때에는 1차원 데이터로 평탄화해줘야 한다. \n",
    "##### 이미지의 형상에는 소중한 공간적 정보가 있다. \n",
    "##### 그러나 완전연결 계층은 이것을 무시하고 모든 입력 데이터를 동등한 뉴런(같은 차원의 뉴런)으로 취급하여 형상에 담긴 정보를 살릴 수 없다.\n",
    "---\n",
    "##### 합성곱 계층은 형상을 유지한다. \n",
    "##### 이미지도 3차원 데이터로 입력받고 전달역시 3차원 데이터로 전달한다. \n",
    "##### CNN에서는 합성곱 계층의 입출력 데이터를 특징 맵이라고도 한다. \n",
    "##### 입력데이터를 입력 특징 맵, 출력 데이터를 출력 특징 맵이라고 한다."
   ]
  },
  {
   "attachments": {},
   "cell_type": "markdown",
   "metadata": {},
   "source": [
    "#### 7.2.2 합성곱 연산"
   ]
  },
  {
   "attachments": {},
   "cell_type": "markdown",
   "metadata": {},
   "source": [
    "##### CNN에서는 **패딩**, **스트라이트** 등 CNN 고유의 용어가 있다. \n",
    "##### 각 계층 사이에는 3차원 데이터같이 입체적인 데이터가 흐른다는 점에서 완전연결 신경망과 다르다.\n"
   ]
  },
  {
   "attachments": {},
   "cell_type": "markdown",
   "metadata": {},
   "source": [
    "##### 합성곱 연산은 이미지 처리에서 말하는 필터 연산에 해당한다. \n",
    "##### 예를 들면 다음과 같다."
   ]
  },
  {
   "attachments": {},
   "cell_type": "markdown",
   "metadata": {},
   "source": [
    "![image.png](attachment:image.png)"
   ]
  },
  {
   "attachments": {},
   "cell_type": "markdown",
   "metadata": {},
   "source": [
    "##### 데이터와 필터의 형상을 (높이(height), 너비(width)로 표기하며 위 예에서는 입력은 (4, 4), 필터는 (3, 3), 출력은 (2, 2)가 된다. \n",
    "##### 문헌에 따라 필터를 커널이라고 칭한다."
   ]
  },
  {
   "attachments": {},
   "cell_type": "markdown",
   "metadata": {},
   "source": [
    "##### 합성곱 연산은 입력 데이터에 필터(커널)를 적용한다. \n",
    "##### 합성곱 연산은 필터의 윈도우를 일정 간격으로 이동해가며 입력 데이터에 적용한다. \n",
    "##### 입력과 필터에서 대응하는 원소끼리 곱한 후 그 총합을 출력의 해당 장소에 저장한다. \n",
    "##### 완전연결 신경망에서는 **가중치 매개변수와 편향**이 존재하는데 CNN에서는 필터의 매개변수가 그 동안의 **가중치**에 해당한다. \n",
    "##### 여기에 편향까지 포함하면 다음과 같은 흐름이 된다."
   ]
  },
  {
   "attachments": {},
   "cell_type": "markdown",
   "metadata": {},
   "source": [
    "![image.png](attachment:image.png)"
   ]
  },
  {
   "attachments": {},
   "cell_type": "markdown",
   "metadata": {},
   "source": [
    "##### 편향은 항상 하나의 값(1x1)만 존재하며, 그 하나의 값을 필터를 적용한 모든 원소에 더하는 것이다."
   ]
  },
  {
   "attachments": {},
   "cell_type": "markdown",
   "metadata": {},
   "source": [
    "#### 7.2.3 패딩"
   ]
  },
  {
   "attachments": {},
   "cell_type": "markdown",
   "metadata": {},
   "source": [
    "##### 합성곱 연산을 수행하기 전에 입력 데이터 주변을 특정 값으로 채우기도 한다. \n",
    "##### 이를 **패딩**이라고 한다.\n",
    "##### 합성곱 연산에서 자주 이용하는 기법이다.\n",
    "##### 다음은 (4, 4) 크기의 입력 데이터에 폭이 1인 패딩을 적용한 모습이다."
   ]
  },
  {
   "attachments": {},
   "cell_type": "markdown",
   "metadata": {},
   "source": [
    "![image.png](attachment:image.png)"
   ]
  },
  {
   "attachments": {},
   "cell_type": "markdown",
   "metadata": {},
   "source": [
    "##### 패딩은 주로 출력 크기를 조정할 목적으로 사용된다. \n",
    "##### (4,4) 입력 데이터에 (3,3) 필터를 적용하면 출력은 (2,2)가 되어 입력보다 2만큼 줄어든다. \n",
    "##### 계속 진행하다보면 출력 크기가 계속 줄어들어 더 이상은 합성곱 연산을 적용할 수 없을 때가 오는데 이를 방지하기 위해 사용한다."
   ]
  },
  {
   "attachments": {},
   "cell_type": "markdown",
   "metadata": {},
   "source": [
    "#### 7.2.4 스트라이드"
   ]
  },
  {
   "attachments": {},
   "cell_type": "markdown",
   "metadata": {},
   "source": [
    "##### 필터를 적용하는 위치의 간격을 스트라이드라고 한다. \n",
    "##### 스트라이드를 2로 하면 필터를 적용하는 윈도우가 두 칸씩 이동하게 된다."
   ]
  },
  {
   "attachments": {},
   "cell_type": "markdown",
   "metadata": {},
   "source": [
    "![image.png](attachment:image.png)"
   ]
  },
  {
   "attachments": {},
   "cell_type": "markdown",
   "metadata": {},
   "source": [
    "##### 하지만 스트라이드를 크게 설정하면 출력 크기가 줄어든다. \n",
    "##### 반대로 패딩을 크게하면 출력의 크기가 커진다. \n",
    "##### 이런한 **출력 크기**를 수식으로 나타내면 다음과 같다.\n",
    "##### 여기서 입력 크기를 (H, W), 필터 크기를 (FH, FW), 출력 크기를 (OH, OW), 패딩을 P, 스트라이드를 S라고 한다.\n"
   ]
  },
  {
   "attachments": {},
   "cell_type": "markdown",
   "metadata": {},
   "source": [
    "![image.png](attachment:image.png)"
   ]
  },
  {
   "attachments": {},
   "cell_type": "markdown",
   "metadata": {},
   "source": [
    "##### 위 식에서 값이 정수로 나눠떨어지는 값이어야 한다는 점이 중요하다\n",
    "##### 출력 크기가 정수가 아니면 오류를 내는 등의 대응을 해줘야 한다.\n",
    "##### 딥러닝 프레임워크 중에는 값이 딱 나눠떨어지지 않을 때는 가장 가까운 정수로 반올림하는 등, 특별히 에러를 내지 않고 진행하도록 구현하는 경우도 있다."
   ]
  },
  {
   "attachments": {},
   "cell_type": "markdown",
   "metadata": {},
   "source": [
    "#### 7.2.5 3차원 데이터의 합성곱 연산"
   ]
  },
  {
   "attachments": {},
   "cell_type": "markdown",
   "metadata": {},
   "source": [
    "![image.png](attachment:image.png)"
   ]
  },
  {
   "attachments": {},
   "cell_type": "markdown",
   "metadata": {},
   "source": [
    "##### 3차원의 합성곱 연산에서 주의할 점은 입력 데이터의 채널 수와 필터의 채널 수가 같아야 한다는 점이다."
   ]
  },
  {
   "attachments": {},
   "cell_type": "markdown",
   "metadata": {},
   "source": [
    "#### 7.2.6 블록으로 생각하기"
   ]
  },
  {
   "attachments": {},
   "cell_type": "markdown",
   "metadata": {},
   "source": [
    "##### 3차원의 합성곱 연산은 데이터와 필터를 직육면체 블록이라고 생각하면 된다. \n",
    "##### 블록은 3차원 직육면체이다. \n",
    "##### 예를 들어 채널 수 C, 높이 H, 너비 W인 데이터의 형상은 (C,H,W)로 쓴다."
   ]
  },
  {
   "attachments": {},
   "cell_type": "markdown",
   "metadata": {},
   "source": [
    "![image.png](attachment:image.png)"
   ]
  },
  {
   "attachments": {},
   "cell_type": "markdown",
   "metadata": {},
   "source": [
    "##### 출력 데이터는 한 장의 특징 맵이다. \n",
    "##### 합성곱 연산의 출력으로 다수의 채널을 내보내려면 필터(가중치)를 다수 사용하면 된다."
   ]
  },
  {
   "attachments": {},
   "cell_type": "markdown",
   "metadata": {},
   "source": [
    "![image.png](attachment:image.png)"
   ]
  },
  {
   "attachments": {},
   "cell_type": "markdown",
   "metadata": {},
   "source": [
    "##### 필터를 FN개 적용하면 출력 맵도 FN개가 생성이 된다. \n",
    "##### 그리고 FN개의 맵을 모으면 형상이 (FN, OH, OW)인 블록이 완성된다. \n",
    "##### 이 완성된 블록을 다음 계층으로 넘기는 것이 CNN 처리 흐름이다. \n",
    "##### 필터의 가중치 데이터는 4차원 데이터이며 (출력 채널 수, 입력 채널 수, 높이, 너비) 순으로 쓴다. \n",
    "##### 합성곱 연산에서도 편향이 쓰인다."
   ]
  },
  {
   "attachments": {},
   "cell_type": "markdown",
   "metadata": {},
   "source": [
    "##### ![image.png](attachment:image.png)"
   ]
  },
  {
   "attachments": {},
   "cell_type": "markdown",
   "metadata": {},
   "source": [
    "#### 7.2.7 배치 처리"
   ]
  },
  {
   "attachments": {},
   "cell_type": "markdown",
   "metadata": {},
   "source": [
    "##### 합성곱 연산에서도 배치 처리를 지원한다. \n",
    "##### 각 계층을 흐르는 데이터의 차원을 하나 늘려 4차원 데이터로 저장한다. \n",
    "##### 구체적으로는 데이터를 (데이터 수, 채널 수, 높이, 너비) 순으로 저장한다. \n",
    "##### 데이터가 N개일 때 배치 처리하면 데이터의 형태가 다음과 같아진다."
   ]
  },
  {
   "attachments": {},
   "cell_type": "markdown",
   "metadata": {},
   "source": [
    "![image.png](attachment:image.png)"
   ]
  },
  {
   "attachments": {},
   "cell_type": "markdown",
   "metadata": {},
   "source": [
    "##### 각 데이터의 선두에 배치용 차원을 추가했다. \n",
    "##### 데이터는 4차원 형상을 가진 채 각 계층을 타고 흐르는데 주의할 점은 신경망에 4차원 데이터가 하나 흐를 때마다 데이터 N개에 대한 합성곱 연산이 이뤄진다는 것이다. \n",
    "##### 다시 말해 N회 분의 처리를 한번에 수행한다는 것이다."
   ]
  },
  {
   "attachments": {},
   "cell_type": "markdown",
   "metadata": {},
   "source": [
    "### 7.3 풀링 계층"
   ]
  },
  {
   "attachments": {},
   "cell_type": "markdown",
   "metadata": {},
   "source": [
    "##### **폴링**은 세로,가로 방향의 공간을 줄이는 연산이다."
   ]
  },
  {
   "attachments": {},
   "cell_type": "markdown",
   "metadata": {},
   "source": [
    "![image.png](attachment:image.png)"
   ]
  },
  {
   "attachments": {},
   "cell_type": "markdown",
   "metadata": {},
   "source": [
    "##### 최대폴링을 스트라이드 2로 처리하는 순서이다. \n",
    "##### 최대 폴링은 최대값을 구하는 연산으로 2x2 크기의 영역에서 가장 큰 원소 하나를 꺼낸다. \n",
    "##### 폴링은 최대 폴링 외에도 평균 폴링 등이 있다. \n",
    "##### 평균 폴링은 대상 영역의 평균을 계산한다. \n",
    "##### 이미지 인식 분야에서는 주로 최대 폴링을 사용한다.\n",
    "##### 풀링의 윈도우 크기와 스트라이드는 같은 값으로 설정하는 것이 보통이다."
   ]
  },
  {
   "attachments": {},
   "cell_type": "markdown",
   "metadata": {},
   "source": [
    "#### 7.3.1 풀링 계층의 특징"
   ]
  },
  {
   "attachments": {},
   "cell_type": "markdown",
   "metadata": {},
   "source": [
    "##### **1. 학습해야 할 매개변수가 없다.** 폴리은 대상 영역에서 최대값이나 평균을 취하는 명확한 처리이므로 특별히 학습할 것이 없다.\n",
    "##### **2. 채널 수가 변하지 않는다.** 폴링 연산은 입력 데이터의 채널 수 그대로 출력 데이터로 내보낸다.\n",
    "##### **3. 입력 변화에 영향을 적게 받는다.** 입력 데이터가 조금 변해도 폴링의 결과는 잘 변하지 않는다."
   ]
  }
 ],
 "metadata": {
  "kernelspec": {
   "display_name": "Python 3",
   "language": "python",
   "name": "python3"
  },
  "language_info": {
   "codemirror_mode": {
    "name": "ipython",
    "version": 3
   },
   "file_extension": ".py",
   "mimetype": "text/x-python",
   "name": "python",
   "nbconvert_exporter": "python",
   "pygments_lexer": "ipython3",
   "version": "3.9.13"
  },
  "orig_nbformat": 4
 },
 "nbformat": 4,
 "nbformat_minor": 2
}
